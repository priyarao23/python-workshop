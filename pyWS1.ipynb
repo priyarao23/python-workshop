{
  "nbformat": 4,
  "nbformat_minor": 0,
  "metadata": {
    "colab": {
      "name": "pyWS1.ipynb",
      "provenance": [],
      "collapsed_sections": [],
      "authorship_tag": "ABX9TyNgOFGaAnKItMo/IGvMnaIt",
      "include_colab_link": true
    },
    "kernelspec": {
      "name": "python3",
      "display_name": "Python 3"
    }
  },
  "cells": [
    {
      "cell_type": "markdown",
      "metadata": {
        "id": "view-in-github",
        "colab_type": "text"
      },
      "source": [
        "<a href=\"https://colab.research.google.com/github/priyarao23/python-workshop/blob/master/pyWS1.ipynb\" target=\"_parent\"><img src=\"https://colab.research.google.com/assets/colab-badge.svg\" alt=\"Open In Colab\"/></a>"
      ]
    },
    {
      "cell_type": "markdown",
      "metadata": {
        "id": "tzm02FPK3apb"
      },
      "source": [
        "#Python Programming!\r\n"
      ]
    },
    {
      "cell_type": "code",
      "metadata": {
        "colab": {
          "base_uri": "https://localhost:8080/"
        },
        "id": "-32bLgfr3f6Z",
        "outputId": "d2e48c45-f4c3-491f-80cd-4efdf392d52c"
      },
      "source": [
        "print(\"Hello World!\")"
      ],
      "execution_count": null,
      "outputs": [
        {
          "output_type": "stream",
          "text": [
            "Hello World!\n"
          ],
          "name": "stdout"
        }
      ]
    },
    {
      "cell_type": "code",
      "metadata": {
        "colab": {
          "base_uri": "https://localhost:8080/"
        },
        "id": "k_oxCk1L568K",
        "outputId": "9a95fdb4-b8bd-4479-f6f0-f96b33ce0467"
      },
      "source": [
        "x=5\r\n",
        "y=\"John\"\r\n",
        "print(x)\r\n",
        "print(y)\r\n"
      ],
      "execution_count": null,
      "outputs": [
        {
          "output_type": "stream",
          "text": [
            "5\n",
            "John\n"
          ],
          "name": "stdout"
        }
      ]
    },
    {
      "cell_type": "markdown",
      "metadata": {
        "id": "pMf-Y1b49RJs"
      },
      "source": [
        "#x->int y->string z->float"
      ]
    },
    {
      "cell_type": "code",
      "metadata": {
        "colab": {
          "base_uri": "https://localhost:8080/"
        },
        "id": "oGrJDmpu9TWi",
        "outputId": "bee071ed-62a2-430c-cfe0-ff71085b8206"
      },
      "source": [
        "x, y, z= 5, \"Python\", 1.999\r\n",
        "print(x)\r\n",
        "print(y)\r\n",
        "print(z)"
      ],
      "execution_count": null,
      "outputs": [
        {
          "output_type": "stream",
          "text": [
            "5\n",
            "Python\n",
            "1.999\n"
          ],
          "name": "stdout"
        }
      ]
    },
    {
      "cell_type": "code",
      "metadata": {
        "colab": {
          "base_uri": "https://localhost:8080/"
        },
        "id": "9G3Rqsao-Iw0",
        "outputId": "693e67f0-0af7-434a-9537-a3d46d76b386"
      },
      "source": [
        "x=y=z=\"Priya\"\r\n",
        "print(x)\r\n",
        "print(y)\r\n",
        "print(z)"
      ],
      "execution_count": null,
      "outputs": [
        {
          "output_type": "stream",
          "text": [
            "Priya\n",
            "Priya\n",
            "Priya\n"
          ],
          "name": "stdout"
        }
      ]
    },
    {
      "cell_type": "markdown",
      "metadata": {
        "id": "m4TgCDpEA2Dj"
      },
      "source": [
        "#Exercise 1"
      ]
    },
    {
      "cell_type": "code",
      "metadata": {
        "colab": {
          "base_uri": "https://localhost:8080/"
        },
        "id": "SjXvu0idA4OL",
        "outputId": "0abcaf2f-ec98-4eae-9e76-86fba85e1a36"
      },
      "source": [
        "carname=\"Volvo\"\r\n",
        "print(carname)"
      ],
      "execution_count": null,
      "outputs": [
        {
          "output_type": "stream",
          "text": [
            "Volvo\n"
          ],
          "name": "stdout"
        }
      ]
    },
    {
      "cell_type": "markdown",
      "metadata": {
        "id": "Z6POi0CZBSoc"
      },
      "source": [
        "#Exercise 2"
      ]
    },
    {
      "cell_type": "code",
      "metadata": {
        "colab": {
          "base_uri": "https://localhost:8080/"
        },
        "id": "8oxNm70YBUr6",
        "outputId": "784503dc-1edb-4694-a132-e57e0954b975"
      },
      "source": [
        "x=50\r\n",
        "print(type(x))"
      ],
      "execution_count": null,
      "outputs": [
        {
          "output_type": "stream",
          "text": [
            "<class 'int'>\n"
          ],
          "name": "stdout"
        }
      ]
    },
    {
      "cell_type": "markdown",
      "metadata": {
        "id": "fG2H2KMNCUBM"
      },
      "source": [
        "#Exercise 3\r\n"
      ]
    },
    {
      "cell_type": "code",
      "metadata": {
        "colab": {
          "base_uri": "https://localhost:8080/"
        },
        "id": "YPL1X2mqCWhU",
        "outputId": "3cda2f3c-052b-45c6-ac2b-cc3f281481ce"
      },
      "source": [
        "x, y = 5, 10\r\n",
        "print(x+y)\r\n"
      ],
      "execution_count": null,
      "outputs": [
        {
          "output_type": "stream",
          "text": [
            "15\n"
          ],
          "name": "stdout"
        }
      ]
    },
    {
      "cell_type": "markdown",
      "metadata": {
        "id": "2tY1wA5OClgr"
      },
      "source": [
        "#Exercise 4"
      ]
    },
    {
      "cell_type": "code",
      "metadata": {
        "colab": {
          "base_uri": "https://localhost:8080/"
        },
        "id": "WZZi9XbACndb",
        "outputId": "b59c63e2-33ac-4c6a-d8b4-1807ccf5db9e"
      },
      "source": [
        "x, y = 11, 17\r\n",
        "z=x+y\r\n",
        "print(z)"
      ],
      "execution_count": null,
      "outputs": [
        {
          "output_type": "stream",
          "text": [
            "28\n"
          ],
          "name": "stdout"
        }
      ]
    },
    {
      "cell_type": "markdown",
      "metadata": {
        "id": "JisQgVu5PSr8"
      },
      "source": [
        "#Data Type"
      ]
    },
    {
      "cell_type": "code",
      "metadata": {
        "colab": {
          "base_uri": "https://localhost:8080/"
        },
        "id": "HsKkcQ6vPYxe",
        "outputId": "36744a04-0e02-4dad-bc2e-5f2e0da9f700"
      },
      "source": [
        "x=5.34\r\n",
        "print(type(x))"
      ],
      "execution_count": null,
      "outputs": [
        {
          "output_type": "stream",
          "text": [
            "<class 'float'>\n"
          ],
          "name": "stdout"
        }
      ]
    },
    {
      "cell_type": "code",
      "metadata": {
        "colab": {
          "base_uri": "https://localhost:8080/"
        },
        "id": "a4Gp1H-eP0--",
        "outputId": "4412767f-daec-46f4-8d1d-fa835a5d1f27"
      },
      "source": [
        "x=5\r\n",
        "print(type(x))"
      ],
      "execution_count": null,
      "outputs": [
        {
          "output_type": "stream",
          "text": [
            "<class 'int'>\n"
          ],
          "name": "stdout"
        }
      ]
    },
    {
      "cell_type": "markdown",
      "metadata": {
        "id": "xeqgOQtOP4hm"
      },
      "source": [
        "#Examples"
      ]
    },
    {
      "cell_type": "code",
      "metadata": {
        "colab": {
          "base_uri": "https://localhost:8080/"
        },
        "id": "H4QJg13IP70k",
        "outputId": "8639e858-4672-4fcf-e566-27b355abab23"
      },
      "source": [
        "x1= \"Hello World!\" #string\r\n",
        "x2=10 #integer\r\n",
        "x3=10.1 #float\r\n",
        "x4=[\"Apple\", \"Banana\", \"Cherry\"] #list\r\n",
        "x5=(\"Apple\", \"Banana\", \"Cherry\") #tuple\r\n",
        "x6=range(6) #range\r\n",
        "x7={\"name\":\"Johnwick\",\"age\":36} #dictionary\r\n",
        "x8={\"Apple\", \"Banana\", \"Cherry\"} #set\r\n",
        "x9=True #bool\r\n",
        "print(type(x1))\r\n",
        "print(type(x2))\r\n",
        "print(type(x3))\r\n",
        "print(type(x4))\r\n",
        "print(type(x5))\r\n",
        "print(type(x6))\r\n",
        "print(type(x7))\r\n",
        "print(type(x8))\r\n",
        "print(type(x9))\r\n"
      ],
      "execution_count": null,
      "outputs": [
        {
          "output_type": "stream",
          "text": [
            "<class 'str'>\n",
            "<class 'int'>\n",
            "<class 'float'>\n",
            "<class 'list'>\n",
            "<class 'tuple'>\n",
            "<class 'range'>\n",
            "{'name': 'Johnwick', 'age': 36}\n",
            "<class 'set'>\n",
            "<class 'bool'>\n"
          ],
          "name": "stdout"
        }
      ]
    },
    {
      "cell_type": "markdown",
      "metadata": {
        "id": "Z-RbzTFjS_mm"
      },
      "source": [
        "#Python Numbers"
      ]
    },
    {
      "cell_type": "code",
      "metadata": {
        "colab": {
          "base_uri": "https://localhost:8080/"
        },
        "id": "DcZ6ETr8TCuY",
        "outputId": "ed5575f0-6a2d-4c35-a173-783cb22be705"
      },
      "source": [
        "x=755658794344656754\r\n",
        "y=23.1999\r\n",
        "z=-23+7j\r\n",
        "print(type(x))\r\n",
        "print(type(y))\r\n",
        "print(type(z))\r\n"
      ],
      "execution_count": null,
      "outputs": [
        {
          "output_type": "stream",
          "text": [
            "<class 'int'>\n",
            "<class 'float'>\n",
            "<class 'complex'>\n"
          ],
          "name": "stdout"
        }
      ]
    },
    {
      "cell_type": "code",
      "metadata": {
        "colab": {
          "base_uri": "https://localhost:8080/"
        },
        "id": "bnvAnhlvVosP",
        "outputId": "3c9cb1be-5433-4e18-ab00-a3c727397e2d"
      },
      "source": [
        "x=range(0,6,2)\r\n",
        "print(list(x))"
      ],
      "execution_count": null,
      "outputs": [
        {
          "output_type": "stream",
          "text": [
            "[0, 2, 4]\n"
          ],
          "name": "stdout"
        }
      ]
    },
    {
      "cell_type": "code",
      "metadata": {
        "colab": {
          "base_uri": "https://localhost:8080/"
        },
        "id": "URho-WQxXAZ_",
        "outputId": "26cccaba-28a9-48fb-fa06-70b6a5aee0b7"
      },
      "source": [
        "x={1, 2, 4, 2, 6 ,5, 3 ,7, 9, 2, 8, 1, 6} #set\r\n",
        "print(x)"
      ],
      "execution_count": null,
      "outputs": [
        {
          "output_type": "stream",
          "text": [
            "{1, 2, 3, 4, 5, 6, 7, 8, 9}\n"
          ],
          "name": "stdout"
        }
      ]
    },
    {
      "cell_type": "markdown",
      "metadata": {
        "id": "GiYCYX3IYG5G"
      },
      "source": [
        "#Type Conversion"
      ]
    },
    {
      "cell_type": "code",
      "metadata": {
        "colab": {
          "base_uri": "https://localhost:8080/"
        },
        "id": "2FtwuINNYJ5G",
        "outputId": "2931e266-0a07-45d7-9196-a297d3a1f12b"
      },
      "source": [
        "x=1\r\n",
        "y=2.8\r\n",
        "z=1j\r\n",
        "a=float(x)\r\n",
        "print(a)\r\n",
        "b=int(y)\r\n",
        "print(b)\r\n",
        "c=complex(x)\r\n",
        "print(c)"
      ],
      "execution_count": null,
      "outputs": [
        {
          "output_type": "stream",
          "text": [
            "1.0\n",
            "2\n",
            "(1+0j)\n"
          ],
          "name": "stdout"
        }
      ]
    },
    {
      "cell_type": "markdown",
      "metadata": {
        "id": "54Qk565JZTvG"
      },
      "source": [
        "#Python Casting"
      ]
    },
    {
      "cell_type": "code",
      "metadata": {
        "id": "Mm-WOnKqZZJ2"
      },
      "source": [
        "x=int(1) #x will be 1\r\n",
        "y=int(2.8) #y will be 2\r\n",
        "z=int(\"3\") #z will be 3\r\n",
        "\r\n",
        "x=float(1) #x will be 1.0\r\n",
        "y=float(2.8) #y will be 2.8\r\n",
        "z=float(\"3\") #z will be 3.0\r\n",
        "w=float(\"4.2\") #w will be 4.2\r\n",
        "\r\n",
        "x=str(\"s1\") #x will be 's1'\r\n",
        "y=str(2) #y will be '2'\r\n",
        "z=str(3.0) #z will be '3'\r\n"
      ],
      "execution_count": null,
      "outputs": []
    },
    {
      "cell_type": "markdown",
      "metadata": {
        "id": "kbkOZy-qamOI"
      },
      "source": [
        "#Assignment"
      ]
    },
    {
      "cell_type": "code",
      "metadata": {
        "colab": {
          "base_uri": "https://localhost:8080/"
        },
        "id": "mLxEZf0Fao4l",
        "outputId": "ca749c30-2eb5-4d32-eca4-d553db11fe0a"
      },
      "source": [
        "x, y = 2, 3\r\n",
        "print( str(x)+str(y))"
      ],
      "execution_count": null,
      "outputs": [
        {
          "output_type": "stream",
          "text": [
            "23\n"
          ],
          "name": "stdout"
        }
      ]
    },
    {
      "cell_type": "markdown",
      "metadata": {
        "id": "poJh_a5pds-o"
      },
      "source": [
        "#Assign String to Variable"
      ]
    },
    {
      "cell_type": "code",
      "metadata": {
        "colab": {
          "base_uri": "https://localhost:8080/"
        },
        "id": "KjHD2r7FdxA_",
        "outputId": "0d18cb43-75ab-4508-fbcc-3f6e258ad57e"
      },
      "source": [
        "name= \"Priya\"\r\n",
        "print(name)\r\n",
        "print(type(name))"
      ],
      "execution_count": null,
      "outputs": [
        {
          "output_type": "stream",
          "text": [
            "Priya\n",
            "<class 'str'>\n"
          ],
          "name": "stdout"
        }
      ]
    },
    {
      "cell_type": "code",
      "metadata": {
        "colab": {
          "base_uri": "https://localhost:8080/"
        },
        "id": "QjVaVEVaeRDP",
        "outputId": "9c975d95-0e12-449e-9c48-81ea33a0c05a"
      },
      "source": [
        "name=\"Priya\"\r\n",
        "print(name[1]) \r\n",
        "print(len(name)) #string length"
      ],
      "execution_count": null,
      "outputs": [
        {
          "output_type": "stream",
          "text": [
            "r\n",
            "5\n"
          ],
          "name": "stdout"
        }
      ]
    },
    {
      "cell_type": "markdown",
      "metadata": {
        "id": "2X6uM4DnfeZ3"
      },
      "source": [
        "#Check String"
      ]
    },
    {
      "cell_type": "code",
      "metadata": {
        "colab": {
          "base_uri": "https://localhost:8080/"
        },
        "id": "RQf0gjOzfjSG",
        "outputId": "6246bf3a-17ea-4c50-ad3f-6d146afcded1"
      },
      "source": [
        "txt=\"Things in life are free\"\r\n",
        "print(\"life\" in txt)\r\n",
        "print(\"I\" in txt)\r\n",
        "print(txt[0:6]) #Slicing\r\n",
        "print(txt[:6]) #start\r\n",
        "print(txt[7:]) #end"
      ],
      "execution_count": null,
      "outputs": [
        {
          "output_type": "stream",
          "text": [
            "True\n",
            "False\n",
            "Things\n",
            "Things\n",
            "in life are free\n"
          ],
          "name": "stdout"
        }
      ]
    },
    {
      "cell_type": "markdown",
      "metadata": {
        "id": "umvV48vyg7oa"
      },
      "source": [
        "#Negative Indexing"
      ]
    },
    {
      "cell_type": "code",
      "metadata": {
        "colab": {
          "base_uri": "https://localhost:8080/"
        },
        "id": "7E2QNTBfg_MP",
        "outputId": "08c717ec-d511-4d9d-a085-69d07b43a41d"
      },
      "source": [
        "txt=\"Things in life are free!\"\r\n",
        "print(txt[-6:-1])"
      ],
      "execution_count": null,
      "outputs": [
        {
          "output_type": "stream",
          "text": [
            " free\n"
          ],
          "name": "stdout"
        }
      ]
    },
    {
      "cell_type": "markdown",
      "metadata": {
        "id": "sgHJfnW_hp43"
      },
      "source": [
        "#Modifying"
      ]
    },
    {
      "cell_type": "code",
      "metadata": {
        "colab": {
          "base_uri": "https://localhost:8080/"
        },
        "id": "F5-sW2mxhrwn",
        "outputId": "7fd38860-dd54-4759-b588-5e8b5b86d143"
      },
      "source": [
        "txt=\"Things in life are free!\"\r\n",
        "print(txt.upper())\r\n",
        "print(txt.lower())"
      ],
      "execution_count": null,
      "outputs": [
        {
          "output_type": "stream",
          "text": [
            "THINGS IN LIFE ARE FREE!\n",
            "things in life are free!\n"
          ],
          "name": "stdout"
        }
      ]
    },
    {
      "cell_type": "markdown",
      "metadata": {
        "id": "_NagHjQ9iULw"
      },
      "source": [
        "#String Concatenation"
      ]
    },
    {
      "cell_type": "code",
      "metadata": {
        "colab": {
          "base_uri": "https://localhost:8080/"
        },
        "id": "jNGeXG5diXJG",
        "outputId": "f7bbc458-a02e-445f-9cd3-7eb409d53e99"
      },
      "source": [
        "a=\"Hello \"\r\n",
        "b=\"World!\"\r\n",
        "print(a+b)"
      ],
      "execution_count": null,
      "outputs": [
        {
          "output_type": "stream",
          "text": [
            "Hello World!\n"
          ],
          "name": "stdout"
        }
      ]
    },
    {
      "cell_type": "markdown",
      "metadata": {
        "id": "-_S4J_pci6av"
      },
      "source": [
        "#Python-Format-String"
      ]
    },
    {
      "cell_type": "code",
      "metadata": {
        "colab": {
          "base_uri": "https://localhost:8080/"
        },
        "id": "FzMitdPSi-8k",
        "outputId": "6f624813-8042-448b-e72d-5b69327cacb1"
      },
      "source": [
        "age=36\r\n",
        "txt=\"My name is John, and I am {}\"\r\n",
        "print(txt.format(age))"
      ],
      "execution_count": null,
      "outputs": [
        {
          "output_type": "stream",
          "text": [
            "My name is John, and I am 36\n"
          ],
          "name": "stdout"
        }
      ]
    },
    {
      "cell_type": "markdown",
      "metadata": {
        "id": "FOwwEfhKkAT7"
      },
      "source": [
        "#Escape Characters"
      ]
    },
    {
      "cell_type": "code",
      "metadata": {
        "colab": {
          "base_uri": "https://localhost:8080/"
        },
        "id": "S-I1rw6ikDYY",
        "outputId": "e207ee25-fa67-4872-8c64-502214a16baa"
      },
      "source": [
        "txt=\"Hello\\nWorld!\"\r\n",
        "print(txt)"
      ],
      "execution_count": null,
      "outputs": [
        {
          "output_type": "stream",
          "text": [
            "Hello\n",
            "World!\n"
          ],
          "name": "stdout"
        }
      ]
    },
    {
      "cell_type": "code",
      "metadata": {
        "colab": {
          "base_uri": "https://localhost:8080/"
        },
        "id": "hre_3IVbkfng",
        "outputId": "4815e7ae-989d-4fd9-ce41-78f0b8e69bbd"
      },
      "source": [
        "txt=\"Hello\\tWorld!\"\r\n",
        "print(txt)"
      ],
      "execution_count": null,
      "outputs": [
        {
          "output_type": "stream",
          "text": [
            "Hello\tWorld!\n"
          ],
          "name": "stdout"
        }
      ]
    },
    {
      "cell_type": "code",
      "metadata": {
        "colab": {
          "base_uri": "https://localhost:8080/"
        },
        "id": "59Zv3W-Fkw9v",
        "outputId": "ed76d7b0-0241-4cd5-9bc4-bc6f4409ea42"
      },
      "source": [
        "txt=\"priya\"\r\n",
        "print(txt.capitalize())"
      ],
      "execution_count": null,
      "outputs": [
        {
          "output_type": "stream",
          "text": [
            "Priya\n"
          ],
          "name": "stdout"
        }
      ]
    },
    {
      "cell_type": "code",
      "metadata": {
        "colab": {
          "base_uri": "https://localhost:8080/"
        },
        "id": "GHlIjtRXl2mh",
        "outputId": "99a701fc-b642-47a9-d966-8e9f2403e518"
      },
      "source": [
        "txt=\"priya\"\r\n",
        "print(txt.isupper())"
      ],
      "execution_count": null,
      "outputs": [
        {
          "output_type": "stream",
          "text": [
            "False\n"
          ],
          "name": "stdout"
        }
      ]
    },
    {
      "cell_type": "code",
      "metadata": {
        "colab": {
          "base_uri": "https://localhost:8080/"
        },
        "id": "YzM_qFQ1l7IX",
        "outputId": "80dbd7ae-21ba-41bd-b8ce-6c0ef5dc748b"
      },
      "source": [
        "txt=\"priya\"\r\n",
        "print(txt.isalpha())"
      ],
      "execution_count": null,
      "outputs": [
        {
          "output_type": "stream",
          "text": [
            "True\n"
          ],
          "name": "stdout"
        }
      ]
    },
    {
      "cell_type": "markdown",
      "metadata": {
        "id": "A6F-ZYtd1m_b"
      },
      "source": [
        "#Exercise"
      ]
    },
    {
      "cell_type": "code",
      "metadata": {
        "colab": {
          "base_uri": "https://localhost:8080/"
        },
        "id": "Beb_PxDv1qGh",
        "outputId": "fb3aec00-47e4-4d3d-b2b0-22b769f54941"
      },
      "source": [
        "name=\"alvas\"\r\n",
        "a=\" college\"\r\n",
        "txt=\"alvas{}\"\r\n",
        "print(name)\r\n",
        "print(len(name))\r\n",
        "print(name[0:4])\r\n",
        "print(name.upper())\r\n",
        "print(name+a)\r\n",
        "print(txt.format(a))\r\n",
        "print(name.isdigit())\r\n",
        "\r\n",
        "\r\n"
      ],
      "execution_count": null,
      "outputs": [
        {
          "output_type": "stream",
          "text": [
            "alvas\n",
            "5\n",
            "alva\n",
            "ALVAS\n",
            "alvas college\n",
            "alvas college\n",
            "False\n"
          ],
          "name": "stdout"
        }
      ]
    },
    {
      "cell_type": "markdown",
      "metadata": {
        "id": "uSUfQP3A6OOs"
      },
      "source": [
        "#Boolean Values"
      ]
    },
    {
      "cell_type": "code",
      "metadata": {
        "colab": {
          "base_uri": "https://localhost:8080/"
        },
        "id": "SyGrgcNJ6Ua_",
        "outputId": "a38bdd12-76c6-4a0f-d70a-77f3c2e8987e"
      },
      "source": [
        "print(10>9)\r\n",
        "print(10==9)"
      ],
      "execution_count": null,
      "outputs": [
        {
          "output_type": "stream",
          "text": [
            "True\n",
            "False\n"
          ],
          "name": "stdout"
        }
      ]
    },
    {
      "cell_type": "markdown",
      "metadata": {
        "id": "enJXpEWk62fr"
      },
      "source": [
        "#Arithmetic Operators"
      ]
    },
    {
      "cell_type": "code",
      "metadata": {
        "colab": {
          "base_uri": "https://localhost:8080/"
        },
        "id": "U_ObKbr666fC",
        "outputId": "b88499e4-9479-4630-a96a-fafe1bd76745"
      },
      "source": [
        "print(10+5)\r\n",
        "print(10-5)\r\n",
        "print(10*5)\r\n",
        "print(10/5)\r\n",
        "print(10%5)"
      ],
      "execution_count": null,
      "outputs": [
        {
          "output_type": "stream",
          "text": [
            "15\n",
            "5\n",
            "50\n",
            "2.0\n",
            "0\n"
          ],
          "name": "stdout"
        }
      ]
    },
    {
      "cell_type": "markdown",
      "metadata": {
        "id": "RWqTWITI8S4N"
      },
      "source": [
        "#Python Comparison Operators"
      ]
    },
    {
      "cell_type": "code",
      "metadata": {
        "colab": {
          "base_uri": "https://localhost:8080/"
        },
        "id": "9R-8yDWt8oKS",
        "outputId": "37ce3999-0096-46d8-b382-5c14ee20e15a"
      },
      "source": [
        "x, y = 2, 5\r\n",
        "print(x==y)\r\n",
        "print(x!=y)\r\n",
        "print(x>y)\r\n",
        "print(x<y)"
      ],
      "execution_count": null,
      "outputs": [
        {
          "output_type": "stream",
          "text": [
            "False\n",
            "True\n",
            "False\n",
            "True\n"
          ],
          "name": "stdout"
        }
      ]
    },
    {
      "cell_type": "code",
      "metadata": {
        "colab": {
          "base_uri": "https://localhost:8080/"
        },
        "id": "8swHSI9q94Eq",
        "outputId": "aff7eef5-f489-4dbd-b2d8-13abc75710d9"
      },
      "source": [
        "print(3<0 and 3<8) #False and True is False\r\n",
        "print(3<0 and 3>8) #False and True is False\r\n",
        "print(3<0 or 3<8) #False and True is true"
      ],
      "execution_count": null,
      "outputs": [
        {
          "output_type": "stream",
          "text": [
            "False\n",
            "False\n",
            "True\n"
          ],
          "name": "stdout"
        }
      ]
    },
    {
      "cell_type": "markdown",
      "metadata": {
        "id": "1mg_nzJd-SsM"
      },
      "source": [
        "#Assignment"
      ]
    },
    {
      "cell_type": "code",
      "metadata": {
        "colab": {
          "base_uri": "https://localhost:8080/"
        },
        "id": "l11n8XJ2-VoD",
        "outputId": "f73ddabd-6391-44ae-a6df-c81db7bd42f7"
      },
      "source": [
        "x=int(input(\"enter a number:\\n\"))\r\n",
        "y=int(input(\"enter a number:\\n\"))\r\n",
        "print(x+y)\r\n",
        "print(x-y)\r\n",
        "print(x*y)\r\n",
        "print(x/y)\r\n",
        "print(x%y)\r\n",
        "print(x==y)\r\n",
        "print(x!=y)\r\n",
        "print(x>y)\r\n",
        "print(x<y)"
      ],
      "execution_count": null,
      "outputs": [
        {
          "output_type": "stream",
          "text": [
            "enter a number:\n",
            "5\n",
            "enter a number:\n",
            "6\n",
            "11\n",
            "-1\n",
            "30\n",
            "0.8333333333333334\n",
            "5\n",
            "False\n",
            "True\n",
            "False\n",
            "True\n"
          ],
          "name": "stdout"
        }
      ]
    },
    {
      "cell_type": "markdown",
      "metadata": {
        "id": "qJyOUC-JEXiV"
      },
      "source": [
        "#thislist"
      ]
    },
    {
      "cell_type": "code",
      "metadata": {
        "colab": {
          "base_uri": "https://localhost:8080/"
        },
        "id": "UlDW8fJiEaNc",
        "outputId": "bf897228-c7e3-4553-9260-6546b66adee5"
      },
      "source": [
        "thislist=[\"Priya\", \"Nithya\", \"Archana\"]\r\n",
        "print(thislist)\r\n",
        "print(len(thislist)) #length"
      ],
      "execution_count": null,
      "outputs": [
        {
          "output_type": "stream",
          "text": [
            "['Priya', 'Nithya', 'Archana']\n",
            "3\n"
          ],
          "name": "stdout"
        }
      ]
    },
    {
      "cell_type": "code",
      "metadata": {
        "colab": {
          "base_uri": "https://localhost:8080/"
        },
        "id": "Vgg87QBnFHnd",
        "outputId": "aa768f6b-0b36-4457-dcd6-fe47a2708cdc"
      },
      "source": [
        "L=list((\"cse\", \"ece\", \"ise\"))\r\n",
        "print(L)"
      ],
      "execution_count": null,
      "outputs": [
        {
          "output_type": "stream",
          "text": [
            "['cse', 'ece', 'ise']\n"
          ],
          "name": "stdout"
        }
      ]
    },
    {
      "cell_type": "markdown",
      "metadata": {
        "id": "90ywfz2zGGt7"
      },
      "source": [
        "#Range of Indexes"
      ]
    },
    {
      "cell_type": "code",
      "metadata": {
        "colab": {
          "base_uri": "https://localhost:8080/"
        },
        "id": "Vk7SsoiYGJVt",
        "outputId": "c1b3142c-2303-4c79-c736-2e2c82164182"
      },
      "source": [
        "L=[\"cse\", \"ece\", \"ise\", \"mech\", \"civil\"]\r\n",
        "print(L[2:5])"
      ],
      "execution_count": null,
      "outputs": [
        {
          "output_type": "stream",
          "text": [
            "['ise', 'mech', 'civil']\n"
          ],
          "name": "stdout"
        }
      ]
    },
    {
      "cell_type": "markdown",
      "metadata": {
        "id": "TN09seN7Gdit"
      },
      "source": [
        "#Slice from the start"
      ]
    },
    {
      "cell_type": "code",
      "metadata": {
        "colab": {
          "base_uri": "https://localhost:8080/"
        },
        "id": "3jah-BVDGhOk",
        "outputId": "6618290a-8b25-4773-ddb8-41fdb446b37a"
      },
      "source": [
        "L=[\"cse\", \"ece\", \"ise\", \"mech\", \"civil\"]\r\n",
        "print(L[:3])"
      ],
      "execution_count": null,
      "outputs": [
        {
          "output_type": "stream",
          "text": [
            "['cse', 'ece', 'ise']\n"
          ],
          "name": "stdout"
        }
      ]
    },
    {
      "cell_type": "markdown",
      "metadata": {
        "id": "bDygQFAMGvWz"
      },
      "source": [
        "#Slice from the end"
      ]
    },
    {
      "cell_type": "code",
      "metadata": {
        "colab": {
          "base_uri": "https://localhost:8080/"
        },
        "id": "zjHKtO12G0cn",
        "outputId": "46784ccf-ed37-4f85-c519-606eaaab41c5"
      },
      "source": [
        "L=[\"cse\", \"ece\", \"ise\", \"mech\", \"civil\"]\r\n",
        "print(L[4:])"
      ],
      "execution_count": null,
      "outputs": [
        {
          "output_type": "stream",
          "text": [
            "['civil']\n"
          ],
          "name": "stdout"
        }
      ]
    },
    {
      "cell_type": "markdown",
      "metadata": {
        "id": "i9MIDEsLG_6F"
      },
      "source": [
        "#Change list items"
      ]
    },
    {
      "cell_type": "code",
      "metadata": {
        "colab": {
          "base_uri": "https://localhost:8080/"
        },
        "id": "HCt1YtzvHNyE",
        "outputId": "d5550013-797f-40f5-a024-126dee24264d"
      },
      "source": [
        "L=[\"cse\", \"ece\", \"ise\"]\r\n",
        "L[-1]=\"ML\"\r\n",
        "print(L)"
      ],
      "execution_count": null,
      "outputs": [
        {
          "output_type": "stream",
          "text": [
            "['cse', 'ece', 'ML']\n"
          ],
          "name": "stdout"
        }
      ]
    },
    {
      "cell_type": "markdown",
      "metadata": {
        "id": "RiksN3gnHx0j"
      },
      "source": [
        "#Add list items"
      ]
    },
    {
      "cell_type": "code",
      "metadata": {
        "colab": {
          "base_uri": "https://localhost:8080/"
        },
        "id": "GWX8kESgH0lc",
        "outputId": "4f24ddde-55d9-4152-907c-4a1a39f473ca"
      },
      "source": [
        "thislist=[\"apple\", \"banana\", \"cherry\"]\r\n",
        "print(len(thislist))\r\n",
        "thislist.append(\"orange\")\r\n",
        "print(thislist)\r\n",
        "print(len(thislist))\r\n"
      ],
      "execution_count": null,
      "outputs": [
        {
          "output_type": "stream",
          "text": [
            "3\n",
            "['apple', 'banana', 'cherry', 'orange']\n",
            "4\n"
          ],
          "name": "stdout"
        }
      ]
    },
    {
      "cell_type": "markdown",
      "metadata": {
        "id": "sEkAUPsGISR-"
      },
      "source": [
        "#Extend List"
      ]
    },
    {
      "cell_type": "code",
      "metadata": {
        "colab": {
          "base_uri": "https://localhost:8080/"
        },
        "id": "GAZ8AueMIXbc",
        "outputId": "92d37ee2-c042-412a-c93a-fb1f4b6209e8"
      },
      "source": [
        "thislist=[\"apple\", \"banana\", \"cherry\"]\r\n",
        "tropical=[\"mango\", \"pineapple\", \"papaya\"]\r\n",
        "thislist.extend(tropical)\r\n",
        "\r\n",
        "print(thislist)\r\n"
      ],
      "execution_count": null,
      "outputs": [
        {
          "output_type": "stream",
          "text": [
            "['apple', 'banana', 'cherry', 'mango', 'pineapple', 'papaya']\n"
          ],
          "name": "stdout"
        }
      ]
    },
    {
      "cell_type": "code",
      "metadata": {
        "colab": {
          "base_uri": "https://localhost:8080/"
        },
        "id": "0ko1lTB7JPW8",
        "outputId": "7ad2c4d4-96fd-4c10-af64-c0f59112b3a0"
      },
      "source": [
        "thislist=[\"apple\", \"banana\", \"cherry\"]\r\n",
        "tropical=[\"mango\", \"pineapple\", \"papaya\"]\r\n",
        "newlist=thislist+tropical\r\n",
        "print(newlist)\r\n"
      ],
      "execution_count": null,
      "outputs": [
        {
          "output_type": "stream",
          "text": [
            "['apple', 'banana', 'cherry', 'mango', 'pineapple', 'papaya']\n"
          ],
          "name": "stdout"
        }
      ]
    },
    {
      "cell_type": "markdown",
      "metadata": {
        "id": "Kurcz429Jfsu"
      },
      "source": [
        "#Remove specified item"
      ]
    },
    {
      "cell_type": "code",
      "metadata": {
        "colab": {
          "base_uri": "https://localhost:8080/"
        },
        "id": "8I0M8OsvJifk",
        "outputId": "549c4a33-d87c-4655-ad9f-e62c223aaaa4"
      },
      "source": [
        "thislist=[\"apple\", \"banana\", \"cherry\"]\r\n",
        "thislist.pop(1)\r\n",
        "print(thislist)\r\n",
        "\r\n",
        "thislist.pop()\r\n",
        "print(thislist)\r\n",
        "\r\n",
        "del thislist[0]\r\n",
        "print(thislist)\r\n",
        "\r\n"
      ],
      "execution_count": null,
      "outputs": [
        {
          "output_type": "stream",
          "text": [
            "['apple', 'cherry']\n",
            "['apple']\n",
            "[]\n"
          ],
          "name": "stdout"
        }
      ]
    },
    {
      "cell_type": "markdown",
      "metadata": {
        "id": "ZCJEPH_KKyAa"
      },
      "source": [
        "#Sort method"
      ]
    },
    {
      "cell_type": "code",
      "metadata": {
        "colab": {
          "base_uri": "https://localhost:8080/"
        },
        "id": "eelC4L13Kzum",
        "outputId": "c277987a-ff94-456b-baed-b96930369c14"
      },
      "source": [
        "thislist=[100, 50, 65, 82, 23]\r\n",
        "thislist.sort()\r\n",
        "print(thislist)\r\n",
        "\r\n"
      ],
      "execution_count": null,
      "outputs": [
        {
          "output_type": "stream",
          "text": [
            "[23, 50, 65, 82, 100]\n"
          ],
          "name": "stdout"
        }
      ]
    },
    {
      "cell_type": "markdown",
      "metadata": {
        "id": "0JDTmPQ0LqBt"
      },
      "source": [
        "#Sort Descending"
      ]
    },
    {
      "cell_type": "code",
      "metadata": {
        "colab": {
          "base_uri": "https://localhost:8080/"
        },
        "id": "fbj0nBqxLdxH",
        "outputId": "e3cf5e4d-baeb-4eaf-b9c7-ca6dfb1b0cec"
      },
      "source": [
        "thislist=[100, 50, 65, 82, 23]\r\n",
        "thislist.sort(reverse=True)\r\n",
        "print(thislist)"
      ],
      "execution_count": null,
      "outputs": [
        {
          "output_type": "stream",
          "text": [
            "[100, 82, 65, 50, 23]\n"
          ],
          "name": "stdout"
        }
      ]
    },
    {
      "cell_type": "markdown",
      "metadata": {
        "id": "N9cKh7tbLwQG"
      },
      "source": [
        "#Reverse Order"
      ]
    },
    {
      "cell_type": "code",
      "metadata": {
        "colab": {
          "base_uri": "https://localhost:8080/"
        },
        "id": "KJzV6ROsLyYc",
        "outputId": "42c3509c-ef94-441b-920a-f559393d3e19"
      },
      "source": [
        "thislist=[100, 50, 65, 82, 23]\r\n",
        "thislist.reverse()\r\n",
        "print(thislist)"
      ],
      "execution_count": null,
      "outputs": [
        {
          "output_type": "stream",
          "text": [
            "[23, 82, 65, 50, 100]\n"
          ],
          "name": "stdout"
        }
      ]
    },
    {
      "cell_type": "code",
      "metadata": {
        "colab": {
          "base_uri": "https://localhost:8080/"
        },
        "id": "38iVvpK_MkyV",
        "outputId": "f9065a0a-6a08-4ede-90ff-6517c587f4f4"
      },
      "source": [
        "namelist=[\"Harsh\", \"Pratik\", \"Bob\", \"Dhruv\"]\r\n",
        "print(namelist[1])"
      ],
      "execution_count": null,
      "outputs": [
        {
          "output_type": "stream",
          "text": [
            "Pratik\n"
          ],
          "name": "stdout"
        }
      ]
    },
    {
      "cell_type": "markdown",
      "metadata": {
        "id": "tRAJSrDMPnMn"
      },
      "source": [
        "#Exercise"
      ]
    },
    {
      "cell_type": "code",
      "metadata": {
        "colab": {
          "base_uri": "https://localhost:8080/"
        },
        "id": "TgYTFpkjNO4t",
        "outputId": "7047016f-ceac-49fd-eb42-ed14d9487aaa"
      },
      "source": [
        "animal=['cat', 'dog', 'fish', 'goat']\r\n",
        "age=[1, 2, 2, 6]\r\n",
        "newlist=animal+age\r\n",
        "print(newlist)\r\n",
        "\r\n",
        "animal.extend(age)\r\n",
        "print(animal)"
      ],
      "execution_count": null,
      "outputs": [
        {
          "output_type": "stream",
          "text": [
            "['cat', 'dog', 'fish', 'goat', 1, 2, 2, 6]\n",
            "['cat', 'dog', 'fish', 'goat', 1, 2, 2, 6]\n"
          ],
          "name": "stdout"
        }
      ]
    },
    {
      "cell_type": "markdown",
      "metadata": {
        "id": "moEPuOA-OULG"
      },
      "source": [
        "#Exercise"
      ]
    },
    {
      "cell_type": "code",
      "metadata": {
        "colab": {
          "base_uri": "https://localhost:8080/"
        },
        "id": "z7b1zH7xOWAl",
        "outputId": "8a3f21bd-9af8-43b2-9bef-caceb8743870"
      },
      "source": [
        "age=[1, 2, 3, 6]\r\n",
        "age.append(9)\r\n",
        "print(age)\r\n",
        "\r\n",
        "age.pop(2)\r\n",
        "print(age)\r\n",
        "\r\n",
        "print(age.count(3))\r\n"
      ],
      "execution_count": null,
      "outputs": [
        {
          "output_type": "stream",
          "text": [
            "[1, 2, 3, 6, 9]\n",
            "[1, 2, 6, 9]\n",
            "0\n"
          ],
          "name": "stdout"
        }
      ]
    },
    {
      "cell_type": "markdown",
      "metadata": {
        "id": "hph3tyx1RJ1W"
      },
      "source": [
        "#Python Tuples"
      ]
    },
    {
      "cell_type": "code",
      "metadata": {
        "colab": {
          "base_uri": "https://localhost:8080/"
        },
        "id": "6Zfs9wAcRNYJ",
        "outputId": "aac44608-ec7c-46c2-b80a-468e84a7c01a"
      },
      "source": [
        "thistuple=(\"apple\", \"banana\", \"cherry\")\r\n",
        "print(thistuple)\r\n",
        "print(type(thistuple))"
      ],
      "execution_count": null,
      "outputs": [
        {
          "output_type": "stream",
          "text": [
            "('apple', 'banana', 'cherry')\n",
            "<class 'tuple'>\n"
          ],
          "name": "stdout"
        }
      ]
    },
    {
      "cell_type": "markdown",
      "metadata": {
        "id": "tK4mEbGOSntM"
      },
      "source": [
        "#Update tuple"
      ]
    },
    {
      "cell_type": "code",
      "metadata": {
        "colab": {
          "base_uri": "https://localhost:8080/"
        },
        "id": "Tl9oou-mSM2V",
        "outputId": "ac2b6930-5afb-4360-ed3d-63209747f859"
      },
      "source": [
        "x=(\"apple\", \"banana\", \"cherry\")\r\n",
        "y=list(x)\r\n",
        "y[1]=\"kiwi\"\r\n",
        "x=tuple(y)\r\n",
        "print(x)"
      ],
      "execution_count": null,
      "outputs": [
        {
          "output_type": "stream",
          "text": [
            "('apple', 'kiwi', 'cherry')\n"
          ],
          "name": "stdout"
        }
      ]
    },
    {
      "cell_type": "code",
      "metadata": {
        "colab": {
          "base_uri": "https://localhost:8080/"
        },
        "id": "AGDpt6vbTcQV",
        "outputId": "891deb3b-a4ed-4f22-c6a2-91729164ea75"
      },
      "source": [
        "fruits=(\"apple\", \"banana\", \"cherry\")\r\n",
        "x=list(fruits)\r\n",
        "print(x)\r\n",
        "x.append(\"Banana\")\r\n",
        "print(x)\r\n",
        "print(tuple(x))\r\n",
        "print(fruits[-2])\r\n"
      ],
      "execution_count": null,
      "outputs": [
        {
          "output_type": "stream",
          "text": [
            "['apple', 'banana', 'cherry']\n",
            "['apple', 'banana', 'cherry', 'Banana']\n",
            "('apple', 'banana', 'cherry', 'Banana')\n",
            "banana\n"
          ],
          "name": "stdout"
        }
      ]
    },
    {
      "cell_type": "markdown",
      "metadata": {
        "id": "jQyX0HCW5EA-"
      },
      "source": [
        "#Create a list of your USN and Name by taking the user input, append branch, phone number, section. Print the list in reverse."
      ]
    },
    {
      "cell_type": "code",
      "metadata": {
        "colab": {
          "base_uri": "https://localhost:8080/",
          "height": 265
        },
        "id": "R36qtk_X5o4s",
        "outputId": "b894851d-fa4e-4cf6-9b9d-527b2b0af362"
      },
      "source": [
        "list=input(\"Enter your name and USN \")\r\n",
        "print(list)\r\n",
        "list.append(\"ECE\", \"7349398374\", \"A\")\r\n",
        "print(list)\r\n",
        "list.reverse()\r\n",
        "print(list)\r\n"
      ],
      "execution_count": null,
      "outputs": [
        {
          "output_type": "stream",
          "text": [
            "Enter your name and USN priya 041\n",
            "priya 041\n"
          ],
          "name": "stdout"
        },
        {
          "output_type": "error",
          "ename": "AttributeError",
          "evalue": "ignored",
          "traceback": [
            "\u001b[0;31m---------------------------------------------------------------------------\u001b[0m",
            "\u001b[0;31mAttributeError\u001b[0m                            Traceback (most recent call last)",
            "\u001b[0;32m<ipython-input-30-63681ee56e3d>\u001b[0m in \u001b[0;36m<module>\u001b[0;34m()\u001b[0m\n\u001b[1;32m      1\u001b[0m \u001b[0mlist\u001b[0m\u001b[0;34m=\u001b[0m\u001b[0minput\u001b[0m\u001b[0;34m(\u001b[0m\u001b[0;34m\"Enter your name and USN \"\u001b[0m\u001b[0;34m)\u001b[0m\u001b[0;34m\u001b[0m\u001b[0;34m\u001b[0m\u001b[0m\n\u001b[1;32m      2\u001b[0m \u001b[0mprint\u001b[0m\u001b[0;34m(\u001b[0m\u001b[0mlist\u001b[0m\u001b[0;34m)\u001b[0m\u001b[0;34m\u001b[0m\u001b[0;34m\u001b[0m\u001b[0m\n\u001b[0;32m----> 3\u001b[0;31m \u001b[0mlist\u001b[0m\u001b[0;34m.\u001b[0m\u001b[0mappend\u001b[0m\u001b[0;34m(\u001b[0m\u001b[0;34m\"ECE\"\u001b[0m\u001b[0;34m,\u001b[0m \u001b[0;34m\"7349398374\"\u001b[0m\u001b[0;34m,\u001b[0m \u001b[0;34m\"A\"\u001b[0m\u001b[0;34m)\u001b[0m\u001b[0;34m\u001b[0m\u001b[0;34m\u001b[0m\u001b[0m\n\u001b[0m\u001b[1;32m      4\u001b[0m \u001b[0mprint\u001b[0m\u001b[0;34m(\u001b[0m\u001b[0mlist\u001b[0m\u001b[0;34m)\u001b[0m\u001b[0;34m\u001b[0m\u001b[0;34m\u001b[0m\u001b[0m\n\u001b[1;32m      5\u001b[0m \u001b[0mlist\u001b[0m\u001b[0;34m.\u001b[0m\u001b[0mreverse\u001b[0m\u001b[0;34m(\u001b[0m\u001b[0;34m)\u001b[0m\u001b[0;34m\u001b[0m\u001b[0;34m\u001b[0m\u001b[0m\n",
            "\u001b[0;31mAttributeError\u001b[0m: 'str' object has no attribute 'append'"
          ]
        }
      ]
    },
    {
      "cell_type": "code",
      "metadata": {
        "id": "utPdI25X4UTe"
      },
      "source": [
        ""
      ],
      "execution_count": null,
      "outputs": []
    },
    {
      "cell_type": "code",
      "metadata": {
        "colab": {
          "base_uri": "https://localhost:8080/",
          "height": 527
        },
        "id": "uh77l9FC7phO",
        "outputId": "969ec2e9-3afb-460f-93a5-f93d3e707896"
      },
      "source": [
        "list1=(input(\"Enter your Name:\"))\r\n",
        "list2=(input(\"Enter your USN:\"))\r\n",
        "list3=(input(\"Enter your branch:\"))\r\n",
        "list4=int(input(\"Enter your phone number:\"))\r\n",
        "list5=(input(\"Enter your section:\"))\r\n",
        "print(list1)\r\n",
        "print(list2)\r\n",
        "print(list3)\r\n",
        "print(list4)\r\n",
        "print(list5)\r\n"
      ],
      "execution_count": null,
      "outputs": [
        {
          "output_type": "error",
          "ename": "KeyboardInterrupt",
          "evalue": "ignored",
          "traceback": [
            "\u001b[0;31m---------------------------------------------------------------------------\u001b[0m",
            "\u001b[0;31mKeyboardInterrupt\u001b[0m                         Traceback (most recent call last)",
            "\u001b[0;32m/usr/local/lib/python3.6/dist-packages/ipykernel/kernelbase.py\u001b[0m in \u001b[0;36m_input_request\u001b[0;34m(self, prompt, ident, parent, password)\u001b[0m\n\u001b[1;32m    728\u001b[0m             \u001b[0;32mtry\u001b[0m\u001b[0;34m:\u001b[0m\u001b[0;34m\u001b[0m\u001b[0;34m\u001b[0m\u001b[0m\n\u001b[0;32m--> 729\u001b[0;31m                 \u001b[0mident\u001b[0m\u001b[0;34m,\u001b[0m \u001b[0mreply\u001b[0m \u001b[0;34m=\u001b[0m \u001b[0mself\u001b[0m\u001b[0;34m.\u001b[0m\u001b[0msession\u001b[0m\u001b[0;34m.\u001b[0m\u001b[0mrecv\u001b[0m\u001b[0;34m(\u001b[0m\u001b[0mself\u001b[0m\u001b[0;34m.\u001b[0m\u001b[0mstdin_socket\u001b[0m\u001b[0;34m,\u001b[0m \u001b[0;36m0\u001b[0m\u001b[0;34m)\u001b[0m\u001b[0;34m\u001b[0m\u001b[0;34m\u001b[0m\u001b[0m\n\u001b[0m\u001b[1;32m    730\u001b[0m             \u001b[0;32mexcept\u001b[0m \u001b[0mException\u001b[0m\u001b[0;34m:\u001b[0m\u001b[0;34m\u001b[0m\u001b[0;34m\u001b[0m\u001b[0m\n",
            "\u001b[0;32m/usr/local/lib/python3.6/dist-packages/jupyter_client/session.py\u001b[0m in \u001b[0;36mrecv\u001b[0;34m(self, socket, mode, content, copy)\u001b[0m\n\u001b[1;32m    802\u001b[0m         \u001b[0;32mtry\u001b[0m\u001b[0;34m:\u001b[0m\u001b[0;34m\u001b[0m\u001b[0;34m\u001b[0m\u001b[0m\n\u001b[0;32m--> 803\u001b[0;31m             \u001b[0mmsg_list\u001b[0m \u001b[0;34m=\u001b[0m \u001b[0msocket\u001b[0m\u001b[0;34m.\u001b[0m\u001b[0mrecv_multipart\u001b[0m\u001b[0;34m(\u001b[0m\u001b[0mmode\u001b[0m\u001b[0;34m,\u001b[0m \u001b[0mcopy\u001b[0m\u001b[0;34m=\u001b[0m\u001b[0mcopy\u001b[0m\u001b[0;34m)\u001b[0m\u001b[0;34m\u001b[0m\u001b[0;34m\u001b[0m\u001b[0m\n\u001b[0m\u001b[1;32m    804\u001b[0m         \u001b[0;32mexcept\u001b[0m \u001b[0mzmq\u001b[0m\u001b[0;34m.\u001b[0m\u001b[0mZMQError\u001b[0m \u001b[0;32mas\u001b[0m \u001b[0me\u001b[0m\u001b[0;34m:\u001b[0m\u001b[0;34m\u001b[0m\u001b[0;34m\u001b[0m\u001b[0m\n",
            "\u001b[0;32m/usr/local/lib/python3.6/dist-packages/zmq/sugar/socket.py\u001b[0m in \u001b[0;36mrecv_multipart\u001b[0;34m(self, flags, copy, track)\u001b[0m\n\u001b[1;32m    565\u001b[0m         \"\"\"\n\u001b[0;32m--> 566\u001b[0;31m         \u001b[0mparts\u001b[0m \u001b[0;34m=\u001b[0m \u001b[0;34m[\u001b[0m\u001b[0mself\u001b[0m\u001b[0;34m.\u001b[0m\u001b[0mrecv\u001b[0m\u001b[0;34m(\u001b[0m\u001b[0mflags\u001b[0m\u001b[0;34m,\u001b[0m \u001b[0mcopy\u001b[0m\u001b[0;34m=\u001b[0m\u001b[0mcopy\u001b[0m\u001b[0;34m,\u001b[0m \u001b[0mtrack\u001b[0m\u001b[0;34m=\u001b[0m\u001b[0mtrack\u001b[0m\u001b[0;34m)\u001b[0m\u001b[0;34m]\u001b[0m\u001b[0;34m\u001b[0m\u001b[0;34m\u001b[0m\u001b[0m\n\u001b[0m\u001b[1;32m    567\u001b[0m         \u001b[0;31m# have first part already, only loop while more to receive\u001b[0m\u001b[0;34m\u001b[0m\u001b[0;34m\u001b[0m\u001b[0;34m\u001b[0m\u001b[0m\n",
            "\u001b[0;32mzmq/backend/cython/socket.pyx\u001b[0m in \u001b[0;36mzmq.backend.cython.socket.Socket.recv\u001b[0;34m()\u001b[0m\n",
            "\u001b[0;32mzmq/backend/cython/socket.pyx\u001b[0m in \u001b[0;36mzmq.backend.cython.socket.Socket.recv\u001b[0;34m()\u001b[0m\n",
            "\u001b[0;32mzmq/backend/cython/socket.pyx\u001b[0m in \u001b[0;36mzmq.backend.cython.socket._recv_copy\u001b[0;34m()\u001b[0m\n",
            "\u001b[0;32m/usr/local/lib/python3.6/dist-packages/zmq/backend/cython/checkrc.pxd\u001b[0m in \u001b[0;36mzmq.backend.cython.checkrc._check_rc\u001b[0;34m()\u001b[0m\n",
            "\u001b[0;31mKeyboardInterrupt\u001b[0m: ",
            "\nDuring handling of the above exception, another exception occurred:\n",
            "\u001b[0;31mKeyboardInterrupt\u001b[0m                         Traceback (most recent call last)",
            "\u001b[0;32m<ipython-input-5-a44481dd6601>\u001b[0m in \u001b[0;36m<module>\u001b[0;34m()\u001b[0m\n\u001b[0;32m----> 1\u001b[0;31m \u001b[0mlist1\u001b[0m\u001b[0;34m=\u001b[0m\u001b[0;34m(\u001b[0m\u001b[0minput\u001b[0m\u001b[0;34m(\u001b[0m\u001b[0;34m\"Enter your Name:\"\u001b[0m\u001b[0;34m)\u001b[0m\u001b[0;34m)\u001b[0m\u001b[0;34m\u001b[0m\u001b[0;34m\u001b[0m\u001b[0m\n\u001b[0m\u001b[1;32m      2\u001b[0m \u001b[0mlist2\u001b[0m\u001b[0;34m=\u001b[0m\u001b[0;34m(\u001b[0m\u001b[0minput\u001b[0m\u001b[0;34m(\u001b[0m\u001b[0;34m\"Enter your USN:\"\u001b[0m\u001b[0;34m)\u001b[0m\u001b[0;34m)\u001b[0m\u001b[0;34m\u001b[0m\u001b[0;34m\u001b[0m\u001b[0m\n\u001b[1;32m      3\u001b[0m \u001b[0mlist3\u001b[0m\u001b[0;34m=\u001b[0m\u001b[0;34m(\u001b[0m\u001b[0minput\u001b[0m\u001b[0;34m(\u001b[0m\u001b[0;34m\"Enter your branch:\"\u001b[0m\u001b[0;34m)\u001b[0m\u001b[0;34m)\u001b[0m\u001b[0;34m\u001b[0m\u001b[0;34m\u001b[0m\u001b[0m\n\u001b[1;32m      4\u001b[0m \u001b[0mlist4\u001b[0m\u001b[0;34m=\u001b[0m\u001b[0mint\u001b[0m\u001b[0;34m(\u001b[0m\u001b[0minput\u001b[0m\u001b[0;34m(\u001b[0m\u001b[0;34m\"Enter your phone number:\"\u001b[0m\u001b[0;34m)\u001b[0m\u001b[0;34m)\u001b[0m\u001b[0;34m\u001b[0m\u001b[0;34m\u001b[0m\u001b[0m\n\u001b[1;32m      5\u001b[0m \u001b[0mlist5\u001b[0m\u001b[0;34m=\u001b[0m\u001b[0;34m(\u001b[0m\u001b[0minput\u001b[0m\u001b[0;34m(\u001b[0m\u001b[0;34m\"Enter your section:\"\u001b[0m\u001b[0;34m)\u001b[0m\u001b[0;34m)\u001b[0m\u001b[0;34m\u001b[0m\u001b[0;34m\u001b[0m\u001b[0m\n",
            "\u001b[0;32m/usr/local/lib/python3.6/dist-packages/ipykernel/kernelbase.py\u001b[0m in \u001b[0;36mraw_input\u001b[0;34m(self, prompt)\u001b[0m\n\u001b[1;32m    702\u001b[0m             \u001b[0mself\u001b[0m\u001b[0;34m.\u001b[0m\u001b[0m_parent_ident\u001b[0m\u001b[0;34m,\u001b[0m\u001b[0;34m\u001b[0m\u001b[0;34m\u001b[0m\u001b[0m\n\u001b[1;32m    703\u001b[0m             \u001b[0mself\u001b[0m\u001b[0;34m.\u001b[0m\u001b[0m_parent_header\u001b[0m\u001b[0;34m,\u001b[0m\u001b[0;34m\u001b[0m\u001b[0;34m\u001b[0m\u001b[0m\n\u001b[0;32m--> 704\u001b[0;31m             \u001b[0mpassword\u001b[0m\u001b[0;34m=\u001b[0m\u001b[0;32mFalse\u001b[0m\u001b[0;34m,\u001b[0m\u001b[0;34m\u001b[0m\u001b[0;34m\u001b[0m\u001b[0m\n\u001b[0m\u001b[1;32m    705\u001b[0m         )\n\u001b[1;32m    706\u001b[0m \u001b[0;34m\u001b[0m\u001b[0m\n",
            "\u001b[0;32m/usr/local/lib/python3.6/dist-packages/ipykernel/kernelbase.py\u001b[0m in \u001b[0;36m_input_request\u001b[0;34m(self, prompt, ident, parent, password)\u001b[0m\n\u001b[1;32m    732\u001b[0m             \u001b[0;32mexcept\u001b[0m \u001b[0mKeyboardInterrupt\u001b[0m\u001b[0;34m:\u001b[0m\u001b[0;34m\u001b[0m\u001b[0;34m\u001b[0m\u001b[0m\n\u001b[1;32m    733\u001b[0m                 \u001b[0;31m# re-raise KeyboardInterrupt, to truncate traceback\u001b[0m\u001b[0;34m\u001b[0m\u001b[0;34m\u001b[0m\u001b[0;34m\u001b[0m\u001b[0m\n\u001b[0;32m--> 734\u001b[0;31m                 \u001b[0;32mraise\u001b[0m \u001b[0mKeyboardInterrupt\u001b[0m\u001b[0;34m\u001b[0m\u001b[0;34m\u001b[0m\u001b[0m\n\u001b[0m\u001b[1;32m    735\u001b[0m             \u001b[0;32melse\u001b[0m\u001b[0;34m:\u001b[0m\u001b[0;34m\u001b[0m\u001b[0;34m\u001b[0m\u001b[0m\n\u001b[1;32m    736\u001b[0m                 \u001b[0;32mbreak\u001b[0m\u001b[0;34m\u001b[0m\u001b[0;34m\u001b[0m\u001b[0m\n",
            "\u001b[0;31mKeyboardInterrupt\u001b[0m: "
          ]
        }
      ]
    },
    {
      "cell_type": "code",
      "metadata": {
        "colab": {
          "base_uri": "https://localhost:8080/",
          "height": 129
        },
        "id": "jHut5H0R4VsU",
        "outputId": "7592b55b-860d-4a53-9db0-bdb7c3a3259e"
      },
      "source": [
        "List1=[(input(\"Enter your name : \"))]\r\n",
        "List2=[(input(\"Enter your USN : \"))]\r\n",
        "List = List1+List2\r\n",
        "List. append(''ECE\", \"7349398374\", \"A\")\r\n",
        "print(List)\r\n",
        "List.reverse()\r\n",
        "print(List)\r\n"
      ],
      "execution_count": null,
      "outputs": [
        {
          "output_type": "error",
          "ename": "SyntaxError",
          "evalue": "ignored",
          "traceback": [
            "\u001b[0;36m  File \u001b[0;32m\"<ipython-input-31-d9ba08e00103>\"\u001b[0;36m, line \u001b[0;32m4\u001b[0m\n\u001b[0;31m    List. append(''ECE\", \"7349398374\", \"A\")\u001b[0m\n\u001b[0m                     ^\u001b[0m\n\u001b[0;31mSyntaxError\u001b[0m\u001b[0;31m:\u001b[0m invalid syntax\n"
          ]
        }
      ]
    },
    {
      "cell_type": "code",
      "metadata": {
        "colab": {
          "base_uri": "https://localhost:8080/"
        },
        "id": "-eph-41q4uWD",
        "outputId": "4038430e-8a1c-4bed-92d3-96727b58439f"
      },
      "source": [
        "List1=[(input(\"Enter your name : \"))]\r\n",
        "List2=[(input(\"Enter your USN : \"))]\r\n",
        "List = List1+List2\r\n",
        "List.append(\"ECE\")\r\n",
        "List.append(\"7349398374\") \r\n",
        "List.append(\"A\")\r\n",
        "print(List)\r\n",
        "List.reverse()\r\n",
        "print(List)\r\n"
      ],
      "execution_count": null,
      "outputs": [
        {
          "output_type": "stream",
          "text": [
            "Enter your name : Priya\n",
            "Enter your USN : 4AL18EC041\n",
            "['Priya', '4AL18EC041', 'ECE', '7349398374', 'A']\n",
            "['A', '7349398374', 'ECE', '4AL18EC041', 'Priya']\n"
          ],
          "name": "stdout"
        }
      ]
    },
    {
      "cell_type": "markdown",
      "metadata": {
        "id": "1J6PtiHO-Z8y"
      },
      "source": [
        "#Sets [DAY-2]"
      ]
    },
    {
      "cell_type": "code",
      "metadata": {
        "colab": {
          "base_uri": "https://localhost:8080/"
        },
        "id": "N-DYAiPl-PZb",
        "outputId": "670a2997-cdd8-4210-ceed-636650037a7c"
      },
      "source": [
        "numbers={1, 2, 3, 4}\r\n",
        "print(numbers)"
      ],
      "execution_count": null,
      "outputs": [
        {
          "output_type": "stream",
          "text": [
            "{1, 2, 3, 4}\n"
          ],
          "name": "stdout"
        }
      ]
    },
    {
      "cell_type": "markdown",
      "metadata": {
        "id": "PvkbEAJ8-3SN"
      },
      "source": [
        "#set()"
      ]
    },
    {
      "cell_type": "code",
      "metadata": {
        "colab": {
          "base_uri": "https://localhost:8080/",
          "height": 231
        },
        "id": "ImWqh38X-5x4",
        "outputId": "c2b9bb17-e55e-4428-eb48-50e9789b917a"
      },
      "source": [
        "a=set(('ECE', 'CSE', 'ISE', 'CIV'))\r\n",
        "print(a)\r\n",
        "a.add(\"MECH\") #adding\r\n",
        "print(a)\r\n",
        "print(len(a))\r\n",
        "a.add(\"CSE\") #donot allow duplication of elements\r\n",
        "print(len(a))\r\n",
        "print(a)\r\n",
        "a.remove(\"MECH\") #.remove method\r\n",
        "print(a)\r\n",
        "a.pop() #removes last item\r\n",
        "print(a)\r\n",
        "a.clear() #clears the set\r\n",
        "print(a)\r\n",
        "print(len(a))\r\n",
        "\r\n",
        "\r\n"
      ],
      "execution_count": null,
      "outputs": [
        {
          "output_type": "error",
          "ename": "TypeError",
          "evalue": "ignored",
          "traceback": [
            "\u001b[0;31m---------------------------------------------------------------------------\u001b[0m",
            "\u001b[0;31mTypeError\u001b[0m                                 Traceback (most recent call last)",
            "\u001b[0;32m<ipython-input-55-42e55362bdc6>\u001b[0m in \u001b[0;36m<module>\u001b[0;34m()\u001b[0m\n\u001b[0;32m----> 1\u001b[0;31m \u001b[0ma\u001b[0m\u001b[0;34m=\u001b[0m\u001b[0mset\u001b[0m\u001b[0;34m(\u001b[0m\u001b[0;34m(\u001b[0m\u001b[0;34m'ECE'\u001b[0m\u001b[0;34m,\u001b[0m \u001b[0;34m'CSE'\u001b[0m\u001b[0;34m,\u001b[0m \u001b[0;34m'ISE'\u001b[0m\u001b[0;34m,\u001b[0m \u001b[0;34m'CIV'\u001b[0m\u001b[0;34m)\u001b[0m\u001b[0;34m)\u001b[0m\u001b[0;34m\u001b[0m\u001b[0;34m\u001b[0m\u001b[0m\n\u001b[0m\u001b[1;32m      2\u001b[0m \u001b[0mprint\u001b[0m\u001b[0;34m(\u001b[0m\u001b[0ma\u001b[0m\u001b[0;34m)\u001b[0m\u001b[0;34m\u001b[0m\u001b[0;34m\u001b[0m\u001b[0m\n\u001b[1;32m      3\u001b[0m \u001b[0ma\u001b[0m\u001b[0;34m.\u001b[0m\u001b[0madd\u001b[0m\u001b[0;34m(\u001b[0m\u001b[0;34m\"MECH\"\u001b[0m\u001b[0;34m)\u001b[0m \u001b[0;31m#adding\u001b[0m\u001b[0;34m\u001b[0m\u001b[0;34m\u001b[0m\u001b[0m\n\u001b[1;32m      4\u001b[0m \u001b[0mprint\u001b[0m\u001b[0;34m(\u001b[0m\u001b[0ma\u001b[0m\u001b[0;34m)\u001b[0m\u001b[0;34m\u001b[0m\u001b[0;34m\u001b[0m\u001b[0m\n\u001b[1;32m      5\u001b[0m \u001b[0mprint\u001b[0m\u001b[0;34m(\u001b[0m\u001b[0mlen\u001b[0m\u001b[0;34m(\u001b[0m\u001b[0ma\u001b[0m\u001b[0;34m)\u001b[0m\u001b[0;34m)\u001b[0m\u001b[0;34m\u001b[0m\u001b[0;34m\u001b[0m\u001b[0m\n",
            "\u001b[0;31mTypeError\u001b[0m: 'set' object is not callable"
          ]
        }
      ]
    },
    {
      "cell_type": "code",
      "metadata": {
        "colab": {
          "base_uri": "https://localhost:8080/",
          "height": 214
        },
        "id": "gKyPENoHCkAo",
        "outputId": "36d718a1-134e-4c6d-f559-9ac6df0302fe"
      },
      "source": [
        "a=set(('ECE', 'CSE', 'ISE', 'CIV'))\r\n",
        "print(a)\r\n",
        "del a\r\n",
        "print(a) "
      ],
      "execution_count": null,
      "outputs": [
        {
          "output_type": "stream",
          "text": [
            "{'CIV', 'CSE', 'ISE', 'ECE'}\n"
          ],
          "name": "stdout"
        },
        {
          "output_type": "error",
          "ename": "NameError",
          "evalue": "ignored",
          "traceback": [
            "\u001b[0;31m---------------------------------------------------------------------------\u001b[0m",
            "\u001b[0;31mNameError\u001b[0m                                 Traceback (most recent call last)",
            "\u001b[0;32m<ipython-input-51-c0f3ae0cf430>\u001b[0m in \u001b[0;36m<module>\u001b[0;34m()\u001b[0m\n\u001b[1;32m      2\u001b[0m \u001b[0mprint\u001b[0m\u001b[0;34m(\u001b[0m\u001b[0ma\u001b[0m\u001b[0;34m)\u001b[0m\u001b[0;34m\u001b[0m\u001b[0;34m\u001b[0m\u001b[0m\n\u001b[1;32m      3\u001b[0m \u001b[0;32mdel\u001b[0m \u001b[0ma\u001b[0m\u001b[0;34m\u001b[0m\u001b[0;34m\u001b[0m\u001b[0m\n\u001b[0;32m----> 4\u001b[0;31m \u001b[0mprint\u001b[0m\u001b[0;34m(\u001b[0m\u001b[0ma\u001b[0m\u001b[0;34m)\u001b[0m\u001b[0;34m\u001b[0m\u001b[0;34m\u001b[0m\u001b[0m\n\u001b[0m",
            "\u001b[0;31mNameError\u001b[0m: name 'a' is not defined"
          ]
        }
      ]
    },
    {
      "cell_type": "markdown",
      "metadata": {
        "id": "zP3eW9iaCqTR"
      },
      "source": [
        "#Join sets"
      ]
    },
    {
      "cell_type": "code",
      "metadata": {
        "colab": {
          "base_uri": "https://localhost:8080/"
        },
        "id": "YMgltvyeCsHP",
        "outputId": "78fe90c0-d217-4b47-e0c3-6683d573c497"
      },
      "source": [
        "set1={1, 2, 3, 4, 5}\r\n",
        "set2={'a', 'b', 'c'}\r\n",
        "set=set1.union(set2) #Union method\r\n",
        "print(set)\r\n",
        "set1.update(set2) #Update method\r\n",
        "print(set)"
      ],
      "execution_count": null,
      "outputs": [
        {
          "output_type": "stream",
          "text": [
            "{'a', 1, 2, 3, 4, 5, 'c', 'b'}\n",
            "{'a', 1, 2, 3, 4, 5, 'c', 'b'}\n"
          ],
          "name": "stdout"
        }
      ]
    },
    {
      "cell_type": "code",
      "metadata": {
        "colab": {
          "base_uri": "https://localhost:8080/"
        },
        "id": "ttsEF3UqEL9h",
        "outputId": "6b6f5624-4421-4eec-e305-a9d8d9d70055"
      },
      "source": [
        "thiset={1, 2, 3, 4, 5}\r\n",
        "mylist=['a', 'b', 'c']\r\n",
        "thiset.update(mylist)\r\n",
        "print(thiset)"
      ],
      "execution_count": null,
      "outputs": [
        {
          "output_type": "stream",
          "text": [
            "{'a', 1, 2, 3, 4, 5, 'b', 'c'}\n"
          ],
          "name": "stdout"
        }
      ]
    },
    {
      "cell_type": "code",
      "metadata": {
        "colab": {
          "base_uri": "https://localhost:8080/"
        },
        "id": "VGzVxMXDEkUr",
        "outputId": "b75408e3-187c-4c83-f9fd-9f2b38b8132e"
      },
      "source": [
        "set1={1, 2, 3}\r\n",
        "set2={1, 2, 3}\r\n",
        "set1.update(set2)\r\n",
        "print(set1)"
      ],
      "execution_count": null,
      "outputs": [
        {
          "output_type": "stream",
          "text": [
            "{1, 2, 3}\n"
          ],
          "name": "stdout"
        }
      ]
    },
    {
      "cell_type": "code",
      "metadata": {
        "colab": {
          "base_uri": "https://localhost:8080/",
          "height": 214
        },
        "id": "_kPXVyLdE1_g",
        "outputId": "ddfb60c1-8124-4daf-c668-778dc301d1e4"
      },
      "source": [
        "a=[1,2,3,4,1,2]\r\n",
        "s=set(a)\r\n",
        "print(type(s))\r\n",
        "print(a)"
      ],
      "execution_count": null,
      "outputs": [
        {
          "output_type": "error",
          "ename": "TypeError",
          "evalue": "ignored",
          "traceback": [
            "\u001b[0;31m---------------------------------------------------------------------------\u001b[0m",
            "\u001b[0;31mTypeError\u001b[0m                                 Traceback (most recent call last)",
            "\u001b[0;32m<ipython-input-62-26a581c190af>\u001b[0m in \u001b[0;36m<module>\u001b[0;34m()\u001b[0m\n\u001b[1;32m      1\u001b[0m \u001b[0ma\u001b[0m\u001b[0;34m=\u001b[0m\u001b[0;34m[\u001b[0m\u001b[0;36m1\u001b[0m\u001b[0;34m,\u001b[0m\u001b[0;36m2\u001b[0m\u001b[0;34m,\u001b[0m\u001b[0;36m3\u001b[0m\u001b[0;34m,\u001b[0m\u001b[0;36m4\u001b[0m\u001b[0;34m,\u001b[0m\u001b[0;36m1\u001b[0m\u001b[0;34m,\u001b[0m\u001b[0;36m2\u001b[0m\u001b[0;34m]\u001b[0m\u001b[0;34m\u001b[0m\u001b[0;34m\u001b[0m\u001b[0m\n\u001b[0;32m----> 2\u001b[0;31m \u001b[0ms\u001b[0m\u001b[0;34m=\u001b[0m\u001b[0mset\u001b[0m\u001b[0;34m(\u001b[0m\u001b[0ma\u001b[0m\u001b[0;34m)\u001b[0m\u001b[0;34m\u001b[0m\u001b[0;34m\u001b[0m\u001b[0m\n\u001b[0m\u001b[1;32m      3\u001b[0m \u001b[0mprint\u001b[0m\u001b[0;34m(\u001b[0m\u001b[0mtype\u001b[0m\u001b[0;34m(\u001b[0m\u001b[0ms\u001b[0m\u001b[0;34m)\u001b[0m\u001b[0;34m)\u001b[0m\u001b[0;34m\u001b[0m\u001b[0;34m\u001b[0m\u001b[0m\n\u001b[1;32m      4\u001b[0m \u001b[0mprint\u001b[0m\u001b[0;34m(\u001b[0m\u001b[0ma\u001b[0m\u001b[0;34m)\u001b[0m\u001b[0;34m\u001b[0m\u001b[0;34m\u001b[0m\u001b[0m\n",
            "\u001b[0;31mTypeError\u001b[0m: 'set' object is not callable"
          ]
        }
      ]
    },
    {
      "cell_type": "code",
      "metadata": {
        "colab": {
          "base_uri": "https://localhost:8080/",
          "height": 197
        },
        "id": "45KXgD2_FGPz",
        "outputId": "31ca08fb-3b49-48d9-8207-ce849fc455b9"
      },
      "source": [
        "a=[1,2,3,4,1,2]\r\n",
        "s=set(a)\r\n",
        "print(a)"
      ],
      "execution_count": null,
      "outputs": [
        {
          "output_type": "error",
          "ename": "TypeError",
          "evalue": "ignored",
          "traceback": [
            "\u001b[0;31m---------------------------------------------------------------------------\u001b[0m",
            "\u001b[0;31mTypeError\u001b[0m                                 Traceback (most recent call last)",
            "\u001b[0;32m<ipython-input-64-fc35961810d5>\u001b[0m in \u001b[0;36m<module>\u001b[0;34m()\u001b[0m\n\u001b[1;32m      1\u001b[0m \u001b[0ma\u001b[0m\u001b[0;34m=\u001b[0m\u001b[0;34m[\u001b[0m\u001b[0;36m1\u001b[0m\u001b[0;34m,\u001b[0m\u001b[0;36m2\u001b[0m\u001b[0;34m,\u001b[0m\u001b[0;36m3\u001b[0m\u001b[0;34m,\u001b[0m\u001b[0;36m4\u001b[0m\u001b[0;34m,\u001b[0m\u001b[0;36m1\u001b[0m\u001b[0;34m,\u001b[0m\u001b[0;36m2\u001b[0m\u001b[0;34m]\u001b[0m\u001b[0;34m\u001b[0m\u001b[0;34m\u001b[0m\u001b[0m\n\u001b[0;32m----> 2\u001b[0;31m \u001b[0ms\u001b[0m\u001b[0;34m=\u001b[0m\u001b[0mset\u001b[0m\u001b[0;34m(\u001b[0m\u001b[0ma\u001b[0m\u001b[0;34m)\u001b[0m\u001b[0;34m\u001b[0m\u001b[0;34m\u001b[0m\u001b[0m\n\u001b[0m\u001b[1;32m      3\u001b[0m \u001b[0mprint\u001b[0m\u001b[0;34m(\u001b[0m\u001b[0ms\u001b[0m\u001b[0;34m)\u001b[0m\u001b[0;34m\u001b[0m\u001b[0;34m\u001b[0m\u001b[0m\n",
            "\u001b[0;31mTypeError\u001b[0m: 'set' object is not callable"
          ]
        }
      ]
    },
    {
      "cell_type": "code",
      "metadata": {
        "colab": {
          "base_uri": "https://localhost:8080/"
        },
        "id": "qR_pJ4wDFZ1G",
        "outputId": "f171dad2-b28c-45d2-8715-a7cecb99e2d4"
      },
      "source": [
        "fruits={\"apple\", \"banana\", \"cherry\"}\r\n",
        "fruits.add(\"orange\")\r\n",
        "print(fruits)"
      ],
      "execution_count": null,
      "outputs": [
        {
          "output_type": "stream",
          "text": [
            "{'cherry', 'apple', 'orange', 'banana'}\n"
          ],
          "name": "stdout"
        }
      ]
    },
    {
      "cell_type": "code",
      "metadata": {
        "colab": {
          "base_uri": "https://localhost:8080/"
        },
        "id": "1_i0eNldF2U7",
        "outputId": "128d0bfe-d4cd-4b1a-bedf-b6b63fd24752"
      },
      "source": [
        "fruits={\"apple\", \"banana\", \"cherry\"}\r\n",
        "more_fruits=[\"Orange\", \"Mango\", \"grapes\"]\r\n",
        "fruits.update(more_fruits)\r\n",
        "print(fruits)\r\n",
        "fruits=fruits.union(more_fruits)\r\n",
        "print(fruits)"
      ],
      "execution_count": null,
      "outputs": [
        {
          "output_type": "stream",
          "text": [
            "{'Mango', 'Orange', 'cherry', 'grapes', 'apple', 'banana'}\n",
            "{'grapes', 'Mango', 'apple', 'Orange', 'cherry', 'banana'}\n"
          ],
          "name": "stdout"
        }
      ]
    },
    {
      "cell_type": "code",
      "metadata": {
        "colab": {
          "base_uri": "https://localhost:8080/"
        },
        "id": "eoDroFeTGs9O",
        "outputId": "6a502256-49d1-4d3b-d9f8-cca54f030c73"
      },
      "source": [
        "fruits={\"apple\", \"banana\", \"cherry\"}\r\n",
        "fruits.remove(\"banana\")\r\n",
        "print(fruits)\r\n",
        "fruits.discard(\"banana\")\r\n",
        "print(fruits)"
      ],
      "execution_count": null,
      "outputs": [
        {
          "output_type": "stream",
          "text": [
            "{'cherry', 'apple'}\n",
            "{'cherry', 'apple'}\n"
          ],
          "name": "stdout"
        }
      ]
    },
    {
      "cell_type": "code",
      "metadata": {
        "colab": {
          "base_uri": "https://localhost:8080/",
          "height": 231
        },
        "id": "jCS9_gj8HXrr",
        "outputId": "36e419cf-06a5-4595-f4f7-c5f97df75f5e"
      },
      "source": [
        "a=[1, 2, 1, 2, 3]\r\n",
        "print(len(a))\r\n",
        "new=set(a)\r\n",
        "print(new)\r\n"
      ],
      "execution_count": null,
      "outputs": [
        {
          "output_type": "stream",
          "text": [
            "5\n"
          ],
          "name": "stdout"
        },
        {
          "output_type": "error",
          "ename": "TypeError",
          "evalue": "ignored",
          "traceback": [
            "\u001b[0;31m---------------------------------------------------------------------------\u001b[0m",
            "\u001b[0;31mTypeError\u001b[0m                                 Traceback (most recent call last)",
            "\u001b[0;32m<ipython-input-78-7ef0cfc875e5>\u001b[0m in \u001b[0;36m<module>\u001b[0;34m()\u001b[0m\n\u001b[1;32m      1\u001b[0m \u001b[0ma\u001b[0m\u001b[0;34m=\u001b[0m\u001b[0;34m[\u001b[0m\u001b[0;36m1\u001b[0m\u001b[0;34m,\u001b[0m \u001b[0;36m2\u001b[0m\u001b[0;34m,\u001b[0m \u001b[0;36m1\u001b[0m\u001b[0;34m,\u001b[0m \u001b[0;36m2\u001b[0m\u001b[0;34m,\u001b[0m \u001b[0;36m3\u001b[0m\u001b[0;34m]\u001b[0m\u001b[0;34m\u001b[0m\u001b[0;34m\u001b[0m\u001b[0m\n\u001b[1;32m      2\u001b[0m \u001b[0mprint\u001b[0m\u001b[0;34m(\u001b[0m\u001b[0mlen\u001b[0m\u001b[0;34m(\u001b[0m\u001b[0ma\u001b[0m\u001b[0;34m)\u001b[0m\u001b[0;34m)\u001b[0m\u001b[0;34m\u001b[0m\u001b[0;34m\u001b[0m\u001b[0m\n\u001b[0;32m----> 3\u001b[0;31m \u001b[0mnew\u001b[0m\u001b[0;34m=\u001b[0m\u001b[0mset\u001b[0m\u001b[0;34m(\u001b[0m\u001b[0ma\u001b[0m\u001b[0;34m)\u001b[0m\u001b[0;34m\u001b[0m\u001b[0;34m\u001b[0m\u001b[0m\n\u001b[0m\u001b[1;32m      4\u001b[0m \u001b[0mprint\u001b[0m\u001b[0;34m(\u001b[0m\u001b[0mnew\u001b[0m\u001b[0;34m)\u001b[0m\u001b[0;34m\u001b[0m\u001b[0;34m\u001b[0m\u001b[0m\n",
            "\u001b[0;31mTypeError\u001b[0m: 'set' object is not callable"
          ]
        }
      ]
    },
    {
      "cell_type": "code",
      "metadata": {
        "colab": {
          "base_uri": "https://localhost:8080/",
          "height": 214
        },
        "id": "4eEazUj1HweH",
        "outputId": "ca857ce5-98c7-4420-ae7e-6d85a9da013b"
      },
      "source": [
        "a=[1, 2, 1, 2, 3]\r\n",
        "print(length(a))\r\n",
        "\r\n",
        "print(len(set([1, 2, 1, 2, 3])))"
      ],
      "execution_count": null,
      "outputs": [
        {
          "output_type": "error",
          "ename": "NameError",
          "evalue": "ignored",
          "traceback": [
            "\u001b[0;31m---------------------------------------------------------------------------\u001b[0m",
            "\u001b[0;31mNameError\u001b[0m                                 Traceback (most recent call last)",
            "\u001b[0;32m<ipython-input-73-b6bf6b75ec9c>\u001b[0m in \u001b[0;36m<module>\u001b[0;34m()\u001b[0m\n\u001b[1;32m      1\u001b[0m \u001b[0ma\u001b[0m\u001b[0;34m=\u001b[0m\u001b[0;34m[\u001b[0m\u001b[0;36m1\u001b[0m\u001b[0;34m,\u001b[0m \u001b[0;36m2\u001b[0m\u001b[0;34m,\u001b[0m \u001b[0;36m1\u001b[0m\u001b[0;34m,\u001b[0m \u001b[0;36m2\u001b[0m\u001b[0;34m,\u001b[0m \u001b[0;36m3\u001b[0m\u001b[0;34m]\u001b[0m\u001b[0;34m\u001b[0m\u001b[0;34m\u001b[0m\u001b[0m\n\u001b[0;32m----> 2\u001b[0;31m \u001b[0mprint\u001b[0m\u001b[0;34m(\u001b[0m\u001b[0mlength\u001b[0m\u001b[0;34m(\u001b[0m\u001b[0ma\u001b[0m\u001b[0;34m)\u001b[0m\u001b[0;34m)\u001b[0m\u001b[0;34m\u001b[0m\u001b[0;34m\u001b[0m\u001b[0m\n\u001b[0m\u001b[1;32m      3\u001b[0m \u001b[0;34m\u001b[0m\u001b[0m\n\u001b[1;32m      4\u001b[0m \u001b[0mprint\u001b[0m\u001b[0;34m(\u001b[0m\u001b[0mlen\u001b[0m\u001b[0;34m(\u001b[0m\u001b[0mset\u001b[0m\u001b[0;34m(\u001b[0m\u001b[0;34m[\u001b[0m\u001b[0;36m1\u001b[0m\u001b[0;34m,\u001b[0m \u001b[0;36m2\u001b[0m\u001b[0;34m,\u001b[0m \u001b[0;36m1\u001b[0m\u001b[0;34m,\u001b[0m \u001b[0;36m2\u001b[0m\u001b[0;34m,\u001b[0m \u001b[0;36m3\u001b[0m\u001b[0;34m]\u001b[0m\u001b[0;34m)\u001b[0m\u001b[0;34m)\u001b[0m\u001b[0;34m)\u001b[0m\u001b[0;34m\u001b[0m\u001b[0;34m\u001b[0m\u001b[0m\n",
            "\u001b[0;31mNameError\u001b[0m: name 'length' is not defined"
          ]
        }
      ]
    },
    {
      "cell_type": "code",
      "metadata": {
        "colab": {
          "base_uri": "https://localhost:8080/",
          "height": 163
        },
        "id": "WUdgQDFxIjnU",
        "outputId": "e33936a7-5e0f-42f9-b0f4-88030c1b3bd6"
      },
      "source": [
        "print(len(set([1, 2, 1, 2, 3])))"
      ],
      "execution_count": null,
      "outputs": [
        {
          "output_type": "error",
          "ename": "TypeError",
          "evalue": "ignored",
          "traceback": [
            "\u001b[0;31m---------------------------------------------------------------------------\u001b[0m",
            "\u001b[0;31mTypeError\u001b[0m                                 Traceback (most recent call last)",
            "\u001b[0;32m<ipython-input-75-68a9aee74050>\u001b[0m in \u001b[0;36m<module>\u001b[0;34m()\u001b[0m\n\u001b[0;32m----> 1\u001b[0;31m \u001b[0mprint\u001b[0m\u001b[0;34m(\u001b[0m\u001b[0mlen\u001b[0m\u001b[0;34m(\u001b[0m\u001b[0mset\u001b[0m\u001b[0;34m(\u001b[0m\u001b[0;34m[\u001b[0m\u001b[0;36m1\u001b[0m\u001b[0;34m,\u001b[0m \u001b[0;36m2\u001b[0m\u001b[0;34m,\u001b[0m \u001b[0;36m1\u001b[0m\u001b[0;34m,\u001b[0m \u001b[0;36m2\u001b[0m\u001b[0;34m,\u001b[0m \u001b[0;36m3\u001b[0m\u001b[0;34m]\u001b[0m\u001b[0;34m)\u001b[0m\u001b[0;34m)\u001b[0m\u001b[0;34m)\u001b[0m\u001b[0;34m\u001b[0m\u001b[0;34m\u001b[0m\u001b[0m\n\u001b[0m",
            "\u001b[0;31mTypeError\u001b[0m: 'set' object is not callable"
          ]
        }
      ]
    },
    {
      "cell_type": "markdown",
      "metadata": {
        "id": "VJ2f0wU0Jt7w"
      },
      "source": [
        "#Creating Dictionary"
      ]
    },
    {
      "cell_type": "code",
      "metadata": {
        "colab": {
          "base_uri": "https://localhost:8080/"
        },
        "id": "Vs7c6h4wIpWE",
        "outputId": "963f93f0-b07d-4f4e-f50d-c9b1302c5736"
      },
      "source": [
        "today={\r\n",
        "    \"day\":\"thursday\",\r\n",
        "    \"date\":\"07\",\r\n",
        "    \"month\":\"january\"\r\n",
        "}\r\n",
        "print(today)"
      ],
      "execution_count": null,
      "outputs": [
        {
          "output_type": "stream",
          "text": [
            "{'day': 'thursday', 'date': '07', 'month': 'january'}\n"
          ],
          "name": "stdout"
        }
      ]
    },
    {
      "cell_type": "code",
      "metadata": {
        "colab": {
          "base_uri": "https://localhost:8080/"
        },
        "id": "VqBbBgq7KFmr",
        "outputId": "3c31b1da-3b79-4b8f-c5cf-88f73c599d1f"
      },
      "source": [
        "help(set)"
      ],
      "execution_count": null,
      "outputs": [
        {
          "output_type": "stream",
          "text": [
            "Help on set object:\n",
            "\n",
            "class set(object)\n",
            " |  set() -> new empty set object\n",
            " |  set(iterable) -> new set object\n",
            " |  \n",
            " |  Build an unordered collection of unique elements.\n",
            " |  \n",
            " |  Methods defined here:\n",
            " |  \n",
            " |  __and__(self, value, /)\n",
            " |      Return self&value.\n",
            " |  \n",
            " |  __contains__(...)\n",
            " |      x.__contains__(y) <==> y in x.\n",
            " |  \n",
            " |  __eq__(self, value, /)\n",
            " |      Return self==value.\n",
            " |  \n",
            " |  __ge__(self, value, /)\n",
            " |      Return self>=value.\n",
            " |  \n",
            " |  __getattribute__(self, name, /)\n",
            " |      Return getattr(self, name).\n",
            " |  \n",
            " |  __gt__(self, value, /)\n",
            " |      Return self>value.\n",
            " |  \n",
            " |  __iand__(self, value, /)\n",
            " |      Return self&=value.\n",
            " |  \n",
            " |  __init__(self, /, *args, **kwargs)\n",
            " |      Initialize self.  See help(type(self)) for accurate signature.\n",
            " |  \n",
            " |  __ior__(self, value, /)\n",
            " |      Return self|=value.\n",
            " |  \n",
            " |  __isub__(self, value, /)\n",
            " |      Return self-=value.\n",
            " |  \n",
            " |  __iter__(self, /)\n",
            " |      Implement iter(self).\n",
            " |  \n",
            " |  __ixor__(self, value, /)\n",
            " |      Return self^=value.\n",
            " |  \n",
            " |  __le__(self, value, /)\n",
            " |      Return self<=value.\n",
            " |  \n",
            " |  __len__(self, /)\n",
            " |      Return len(self).\n",
            " |  \n",
            " |  __lt__(self, value, /)\n",
            " |      Return self<value.\n",
            " |  \n",
            " |  __ne__(self, value, /)\n",
            " |      Return self!=value.\n",
            " |  \n",
            " |  __new__(*args, **kwargs) from builtins.type\n",
            " |      Create and return a new object.  See help(type) for accurate signature.\n",
            " |  \n",
            " |  __or__(self, value, /)\n",
            " |      Return self|value.\n",
            " |  \n",
            " |  __rand__(self, value, /)\n",
            " |      Return value&self.\n",
            " |  \n",
            " |  __reduce__(...)\n",
            " |      Return state information for pickling.\n",
            " |  \n",
            " |  __repr__(self, /)\n",
            " |      Return repr(self).\n",
            " |  \n",
            " |  __ror__(self, value, /)\n",
            " |      Return value|self.\n",
            " |  \n",
            " |  __rsub__(self, value, /)\n",
            " |      Return value-self.\n",
            " |  \n",
            " |  __rxor__(self, value, /)\n",
            " |      Return value^self.\n",
            " |  \n",
            " |  __sizeof__(...)\n",
            " |      S.__sizeof__() -> size of S in memory, in bytes\n",
            " |  \n",
            " |  __sub__(self, value, /)\n",
            " |      Return self-value.\n",
            " |  \n",
            " |  __xor__(self, value, /)\n",
            " |      Return self^value.\n",
            " |  \n",
            " |  add(...)\n",
            " |      Add an element to a set.\n",
            " |      \n",
            " |      This has no effect if the element is already present.\n",
            " |  \n",
            " |  clear(...)\n",
            " |      Remove all elements from this set.\n",
            " |  \n",
            " |  copy(...)\n",
            " |      Return a shallow copy of a set.\n",
            " |  \n",
            " |  difference(...)\n",
            " |      Return the difference of two or more sets as a new set.\n",
            " |      \n",
            " |      (i.e. all elements that are in this set but not the others.)\n",
            " |  \n",
            " |  difference_update(...)\n",
            " |      Remove all elements of another set from this set.\n",
            " |  \n",
            " |  discard(...)\n",
            " |      Remove an element from a set if it is a member.\n",
            " |      \n",
            " |      If the element is not a member, do nothing.\n",
            " |  \n",
            " |  intersection(...)\n",
            " |      Return the intersection of two sets as a new set.\n",
            " |      \n",
            " |      (i.e. all elements that are in both sets.)\n",
            " |  \n",
            " |  intersection_update(...)\n",
            " |      Update a set with the intersection of itself and another.\n",
            " |  \n",
            " |  isdisjoint(...)\n",
            " |      Return True if two sets have a null intersection.\n",
            " |  \n",
            " |  issubset(...)\n",
            " |      Report whether another set contains this set.\n",
            " |  \n",
            " |  issuperset(...)\n",
            " |      Report whether this set contains another set.\n",
            " |  \n",
            " |  pop(...)\n",
            " |      Remove and return an arbitrary set element.\n",
            " |      Raises KeyError if the set is empty.\n",
            " |  \n",
            " |  remove(...)\n",
            " |      Remove an element from a set; it must be a member.\n",
            " |      \n",
            " |      If the element is not a member, raise a KeyError.\n",
            " |  \n",
            " |  symmetric_difference(...)\n",
            " |      Return the symmetric difference of two sets as a new set.\n",
            " |      \n",
            " |      (i.e. all elements that are in exactly one of the sets.)\n",
            " |  \n",
            " |  symmetric_difference_update(...)\n",
            " |      Update a set with the symmetric difference of itself and another.\n",
            " |  \n",
            " |  union(...)\n",
            " |      Return the union of sets as a new set.\n",
            " |      \n",
            " |      (i.e. all elements that are in either set.)\n",
            " |  \n",
            " |  update(...)\n",
            " |      Update a set with the union of itself and others.\n",
            " |  \n",
            " |  ----------------------------------------------------------------------\n",
            " |  Data and other attributes defined here:\n",
            " |  \n",
            " |  __hash__ = None\n",
            "\n"
          ],
          "name": "stdout"
        }
      ]
    },
    {
      "cell_type": "markdown",
      "metadata": {
        "id": "g2mSl-mIK1-c"
      },
      "source": [
        "#duplication is not possible"
      ]
    },
    {
      "cell_type": "code",
      "metadata": {
        "colab": {
          "base_uri": "https://localhost:8080/"
        },
        "id": "4ivLYRVMKOgo",
        "outputId": "26749712-2199-4cce-cc32-bbd0b42ac613"
      },
      "source": [
        "thisdict={\r\n",
        "    \"brand\": \"ford\",\r\n",
        "    \"model\": \"mustang\",\r\n",
        "    \"year\": 1964,\r\n",
        "    \"year\": 2020,\r\n",
        "    \"model\": 'lamborgini'\r\n",
        "}\r\n",
        "print(thisdict)\r\n",
        "x=thisdict[\"model\"]\r\n",
        "print(x)\r\n",
        "print(len(thisdict))\r\n",
        "y=thisdict.get(\"model\")\r\n",
        "print(y)\r\n"
      ],
      "execution_count": null,
      "outputs": [
        {
          "output_type": "stream",
          "text": [
            "{'brand': 'ford', 'model': 'lamborgini', 'year': 2020}\n",
            "lamborgini\n",
            "3\n",
            "lamborgini\n"
          ],
          "name": "stdout"
        }
      ]
    },
    {
      "cell_type": "code",
      "metadata": {
        "colab": {
          "base_uri": "https://localhost:8080/"
        },
        "id": "Rnnii-bzMCKx",
        "outputId": "2b27add5-7238-4302-86ca-4a5b2aecb178"
      },
      "source": [
        "thisdict={\r\n",
        "    \"brand\": \"ford\",\r\n",
        "    \"model\": \"mustang\",\r\n",
        "    \"year\": 1964,\r\n",
        "    \"year\": 2020,\r\n",
        "}\r\n",
        "x=thisdict.values()\r\n",
        "print(x)\r\n",
        "print(len(thisdict))   "
      ],
      "execution_count": null,
      "outputs": [
        {
          "output_type": "stream",
          "text": [
            "dict_values(['ford', 'mustang', 2020])\n",
            "3\n"
          ],
          "name": "stdout"
        }
      ]
    },
    {
      "cell_type": "markdown",
      "metadata": {
        "id": "Oc_vEkqjMwPm"
      },
      "source": [
        "#Change dictionary items\r\n"
      ]
    },
    {
      "cell_type": "code",
      "metadata": {
        "colab": {
          "base_uri": "https://localhost:8080/"
        },
        "id": "-uLyP9wxMzmg",
        "outputId": "905aabeb-054e-46a9-e47c-580739020b81"
      },
      "source": [
        "thisdict={\r\n",
        "    \"brand\": \"ford\",\r\n",
        "    \"model\": \"mustang\",\r\n",
        "    \"year\": 1964,\r\n",
        "    \"year\": 2020,\r\n",
        "}\r\n",
        "thisdict[\"year\"]=2021\r\n",
        "print(thisdict)\r\n",
        "print(len(thisdict))   "
      ],
      "execution_count": null,
      "outputs": [
        {
          "output_type": "stream",
          "text": [
            "{'brand': 'ford', 'model': 'mustang', 'year': 2021}\n",
            "3\n"
          ],
          "name": "stdout"
        }
      ]
    },
    {
      "cell_type": "markdown",
      "metadata": {
        "id": "pvPBII9lNVxU"
      },
      "source": [
        "#Add dictionary items"
      ]
    },
    {
      "cell_type": "code",
      "metadata": {
        "colab": {
          "base_uri": "https://localhost:8080/"
        },
        "id": "gVvNXYDzNZal",
        "outputId": "ef8df9f4-4832-47ba-a5aa-6f546a2105b5"
      },
      "source": [
        "thisdict={\r\n",
        "    \"brand\": \"ford\",\r\n",
        "    \"model\": \"mustang\",\r\n",
        "    \"year\": 1964,\r\n",
        "}\r\n",
        "thisdict[\"color\"]=\"red\"\r\n",
        "print(thisdict)"
      ],
      "execution_count": null,
      "outputs": [
        {
          "output_type": "stream",
          "text": [
            "{'brand': 'ford', 'model': 'mustang', 'year': 1964, 'color': 'red'}\n"
          ],
          "name": "stdout"
        }
      ]
    },
    {
      "cell_type": "markdown",
      "metadata": {
        "id": "WAO7IlunOiAw"
      },
      "source": [
        "#Remove Dictionary items"
      ]
    },
    {
      "cell_type": "code",
      "metadata": {
        "colab": {
          "base_uri": "https://localhost:8080/"
        },
        "id": "nXzT_n_rPCvA",
        "outputId": "a65cfd78-8229-4b3f-897e-c3305687694f"
      },
      "source": [
        "thisdict={\r\n",
        "    \"brand\": \"ford\",\r\n",
        "    \"model\": \"mustang\",\r\n",
        "    \"year\": 1964,\r\n",
        "}\r\n",
        "thisdict.pop(\"model\")\r\n",
        "print(thisdict)\r\n",
        "print(len(thisdict))"
      ],
      "execution_count": null,
      "outputs": [
        {
          "output_type": "stream",
          "text": [
            "{'brand': 'ford', 'year': 1964}\n",
            "2\n"
          ],
          "name": "stdout"
        }
      ]
    },
    {
      "cell_type": "markdown",
      "metadata": {
        "id": "vnQZpowDQSV2"
      },
      "source": [
        "#Del Keyword"
      ]
    },
    {
      "cell_type": "code",
      "metadata": {
        "colab": {
          "base_uri": "https://localhost:8080/"
        },
        "id": "E_pTMqR4P9y2",
        "outputId": "ff274168-9ae7-4fd5-a172-627f1532d786"
      },
      "source": [
        "thisdict={\r\n",
        "    \"brand\": \"ford\",\r\n",
        "    \"model\": \"mustang\",\r\n",
        "    \"year\": 1964,\r\n",
        "}\r\n",
        "del thisdict[\"model\"]\r\n",
        "print(thisdict)\r\n",
        "print(len(thisdict))"
      ],
      "execution_count": null,
      "outputs": [
        {
          "output_type": "stream",
          "text": [
            "{'brand': 'ford', 'year': 1964}\n",
            "2\n"
          ],
          "name": "stdout"
        }
      ]
    },
    {
      "cell_type": "code",
      "metadata": {
        "colab": {
          "base_uri": "https://localhost:8080/"
        },
        "id": "Bay8fh6lQjD2",
        "outputId": "1391a809-2740-4339-9077-c5c716b99c91"
      },
      "source": [
        "car={\r\n",
        "    \"brand\": \"ford\",\r\n",
        "    \"model\": \"mustang\",\r\n",
        "    \"year\": 1964,\r\n",
        "}\r\n",
        "print(car.get(\"model\"))\r\n"
      ],
      "execution_count": null,
      "outputs": [
        {
          "output_type": "stream",
          "text": [
            "mustang\n"
          ],
          "name": "stdout"
        }
      ]
    },
    {
      "cell_type": "code",
      "metadata": {
        "colab": {
          "base_uri": "https://localhost:8080/"
        },
        "id": "WVF1_cJhRaa8",
        "outputId": "a7b7a92b-803b-4f28-ca58-e74851877747"
      },
      "source": [
        "car={\r\n",
        "    \"brand\": \"ford\",\r\n",
        "    \"model\": \"mustang\",\r\n",
        "    \"year\": 1964,\r\n",
        "}\r\n",
        "car[\"year\"]=2021\r\n",
        "print(car)"
      ],
      "execution_count": null,
      "outputs": [
        {
          "output_type": "stream",
          "text": [
            "{'brand': 'ford', 'model': 'mustang', 'year': 2021}\n"
          ],
          "name": "stdout"
        }
      ]
    },
    {
      "cell_type": "code",
      "metadata": {
        "colab": {
          "base_uri": "https://localhost:8080/"
        },
        "id": "h_bDuvCDR1Ln",
        "outputId": "70da1424-da68-47e5-f6db-cf626646c06e"
      },
      "source": [
        "car={\r\n",
        "    \"brand\": \"ford\",\r\n",
        "    \"model\": \"mustang\",\r\n",
        "    \"year\": 1964,\r\n",
        "}\r\n",
        "car.update({\"color\": \"red\"})\r\n",
        "print(car)"
      ],
      "execution_count": null,
      "outputs": [
        {
          "output_type": "stream",
          "text": [
            "{'brand': 'ford', 'model': 'mustang', 'year': 1964, 'color': 'red'}\n"
          ],
          "name": "stdout"
        }
      ]
    },
    {
      "cell_type": "code",
      "metadata": {
        "colab": {
          "base_uri": "https://localhost:8080/"
        },
        "id": "TDywfBGZSH9k",
        "outputId": "7de398b9-92a8-478c-eb3f-54eb930a279a"
      },
      "source": [
        "car={\r\n",
        "    \"brand\": \"ford\",\r\n",
        "    \"model\": \"mustang\",\r\n",
        "    \"year\": 1964,\r\n",
        "}\r\n",
        "car.pop(\"model\")\r\n",
        "print(car)"
      ],
      "execution_count": null,
      "outputs": [
        {
          "output_type": "stream",
          "text": [
            "{'brand': 'ford', 'year': 1964}\n"
          ],
          "name": "stdout"
        }
      ]
    },
    {
      "cell_type": "markdown",
      "metadata": {
        "id": "bDV3vkbPYB3-"
      },
      "source": [
        "#Python Conditions and If Statements"
      ]
    },
    {
      "cell_type": "code",
      "metadata": {
        "colab": {
          "base_uri": "https://localhost:8080/"
        },
        "id": "yW_YWGBbYKnk",
        "outputId": "17ae6b86-d906-4ddb-fdaa-e67830932aa6"
      },
      "source": [
        "a=33 \r\n",
        "b=200\r\n",
        "if b>a:\r\n",
        "  print(\"b is greater than a\")"
      ],
      "execution_count": null,
      "outputs": [
        {
          "output_type": "stream",
          "text": [
            "b is greater than a\n"
          ],
          "name": "stdout"
        }
      ]
    },
    {
      "cell_type": "markdown",
      "metadata": {
        "id": "kf4Jeqc8Zqcv"
      },
      "source": [
        "#elif"
      ]
    },
    {
      "cell_type": "code",
      "metadata": {
        "colab": {
          "base_uri": "https://localhost:8080/"
        },
        "id": "36XZQmFnZr7C",
        "outputId": "bc610913-cbb9-4fae-d266-1e824ef58635"
      },
      "source": [
        "a=33 \r\n",
        "b=33\r\n",
        "if b>a:\r\n",
        "  print(\"b is greater than a\")\r\n",
        "elif a==b:\r\n",
        "  print(\"a and b are equal\")  "
      ],
      "execution_count": null,
      "outputs": [
        {
          "output_type": "stream",
          "text": [
            "a and b are equal\n"
          ],
          "name": "stdout"
        }
      ]
    },
    {
      "cell_type": "markdown",
      "metadata": {
        "id": "C2AiX8C3aDdy"
      },
      "source": [
        "#else"
      ]
    },
    {
      "cell_type": "code",
      "metadata": {
        "colab": {
          "base_uri": "https://localhost:8080/"
        },
        "id": "onso7WvwaE_b",
        "outputId": "d66d09d5-f37c-453e-9d7a-9d33f714fde1"
      },
      "source": [
        "a=200\r\n",
        "b=33\r\n",
        "if b>a:\r\n",
        "  print(\"b is greater than a\")\r\n",
        "elif a==b:\r\n",
        "  print(\"a and b are equal\") \r\n",
        "else:\r\n",
        "  print(\"a is greater than b\")"
      ],
      "execution_count": null,
      "outputs": [
        {
          "output_type": "stream",
          "text": [
            "a is greater than b\n"
          ],
          "name": "stdout"
        }
      ]
    },
    {
      "cell_type": "markdown",
      "metadata": {
        "id": "DmV2tegba9rG"
      },
      "source": [
        "#Assignment"
      ]
    },
    {
      "cell_type": "code",
      "metadata": {
        "colab": {
          "base_uri": "https://localhost:8080/"
        },
        "id": "QSUF0pRFbBDt",
        "outputId": "e6d932f2-af31-4327-b1db-1ea100fa2227"
      },
      "source": [
        "a=int(input(\"Enter a number: \"))\r\n",
        "b=int(input(\"Enter a number: \"))\r\n",
        "c=int(input(\"Enter a number: \"))\r\n",
        "if a>b:\r\n",
        "  if a>c:\r\n",
        "    print(\"a is greater\")\r\n",
        "  else:\r\n",
        "    print(\"c is greater\") \r\n",
        "elif b>c:\r\n",
        "  print(\"b is graeter\")\r\n",
        "else:\r\n",
        "  print(\"z is greater than x and y\")    "
      ],
      "execution_count": null,
      "outputs": [
        {
          "output_type": "stream",
          "text": [
            "Enter a number: 8\n",
            "Enter a number: 2\n",
            "Enter a number: 10\n",
            "z is greater than x and y\n"
          ],
          "name": "stdout"
        }
      ]
    },
    {
      "cell_type": "markdown",
      "metadata": {
        "id": "tckIte7te80K"
      },
      "source": [
        "#While loop"
      ]
    },
    {
      "cell_type": "code",
      "metadata": {
        "colab": {
          "base_uri": "https://localhost:8080/"
        },
        "id": "8iL2zF0fe-zc",
        "outputId": "85cac632-3093-473f-9515-07c7a81a9788"
      },
      "source": [
        "i=1\r\n",
        "while i<6:\r\n",
        "  print(i)\r\n",
        "  i+=1 #i=i+1"
      ],
      "execution_count": null,
      "outputs": [
        {
          "output_type": "stream",
          "text": [
            "1\n",
            "2\n",
            "3\n",
            "4\n",
            "5\n"
          ],
          "name": "stdout"
        }
      ]
    },
    {
      "cell_type": "markdown",
      "metadata": {
        "id": "yvCZ1a6LfhjO"
      },
      "source": [
        "#Break Statement"
      ]
    },
    {
      "cell_type": "code",
      "metadata": {
        "colab": {
          "base_uri": "https://localhost:8080/"
        },
        "id": "jXg9iyYIfkVC",
        "outputId": "c7ad936c-96c9-4d28-f509-4c9a54379b92"
      },
      "source": [
        "i=1\r\n",
        "while i<6:\r\n",
        "  print(i)\r\n",
        "  if i==3:\r\n",
        "    break\r\n",
        "  i+=1  "
      ],
      "execution_count": null,
      "outputs": [
        {
          "output_type": "stream",
          "text": [
            "1\n",
            "2\n",
            "3\n"
          ],
          "name": "stdout"
        }
      ]
    },
    {
      "cell_type": "markdown",
      "metadata": {
        "id": "N7b7vzFfgQ-O"
      },
      "source": [
        "#Continue Statement"
      ]
    },
    {
      "cell_type": "code",
      "metadata": {
        "colab": {
          "base_uri": "https://localhost:8080/"
        },
        "id": "89qLUwV2gXUl",
        "outputId": "fc8651f5-0336-4ea1-bee5-496062c96d5c"
      },
      "source": [
        "i=0\r\n",
        "while i<6:\r\n",
        "  i+=1  \r\n",
        "  if i==3:\r\n",
        "    continue\r\n",
        "  print(i)  \r\n",
        "\r\n",
        "  "
      ],
      "execution_count": null,
      "outputs": [
        {
          "output_type": "stream",
          "text": [
            "1\n",
            "2\n",
            "4\n",
            "5\n",
            "6\n"
          ],
          "name": "stdout"
        }
      ]
    },
    {
      "cell_type": "markdown",
      "metadata": {
        "id": "KPf8O_21gyZj"
      },
      "source": [
        "#Assignment"
      ]
    },
    {
      "cell_type": "code",
      "metadata": {
        "colab": {
          "base_uri": "https://localhost:8080/"
        },
        "id": "AWwYJShSg0hk",
        "outputId": "64534e6f-9bf3-4e3e-ad52-a55e0a3d429c"
      },
      "source": [
        "a=int(input(\"Enter a number of inputs: \"))\r\n",
        "i=0\r\n",
        "count=0\r\n",
        "while i<=a:\r\n",
        "  count=count+i\r\n",
        "  i=i+1\r\n",
        "print(count)  \r\n",
        "\r\n",
        "\r\n"
      ],
      "execution_count": null,
      "outputs": [
        {
          "output_type": "stream",
          "text": [
            "Enter a number of inputs: 5\n",
            "15\n"
          ],
          "name": "stdout"
        }
      ]
    },
    {
      "cell_type": "code",
      "metadata": {
        "colab": {
          "base_uri": "https://localhost:8080/"
        },
        "id": "BEGAUu_NkU6b",
        "outputId": "b41f4a43-be11-4490-b8f5-a80ff394fb76"
      },
      "source": [
        "n=int(input())\r\n",
        "sum=0\r\n",
        "while (n):\r\n",
        "  sum +=n\r\n",
        "  n-=1\r\n",
        "print(sum)"
      ],
      "execution_count": null,
      "outputs": [
        {
          "output_type": "stream",
          "text": [
            "5\n",
            "15\n"
          ],
          "name": "stdout"
        }
      ]
    },
    {
      "cell_type": "markdown",
      "metadata": {
        "id": "iBWT6Rsok8oG"
      },
      "source": [
        "#For loop"
      ]
    },
    {
      "cell_type": "code",
      "metadata": {
        "colab": {
          "base_uri": "https://localhost:8080/"
        },
        "id": "8g_tqo0_k-Zl",
        "outputId": "42e9f28b-ce3f-4d0f-b0d9-5ec682b51e60"
      },
      "source": [
        "fruits=[\"apple\", \"banana\", \"cherry\"]\r\n",
        "for x in fruits:\r\n",
        "  print(x)"
      ],
      "execution_count": null,
      "outputs": [
        {
          "output_type": "stream",
          "text": [
            "apple\n",
            "banana\n",
            "cherry\n"
          ],
          "name": "stdout"
        }
      ]
    },
    {
      "cell_type": "markdown",
      "metadata": {
        "id": "gzJy6R62l2Ad"
      },
      "source": [
        "#Looping through string"
      ]
    },
    {
      "cell_type": "code",
      "metadata": {
        "colab": {
          "base_uri": "https://localhost:8080/"
        },
        "id": "ATWs3Blbl5UN",
        "outputId": "16fe1250-3014-4409-a004-2f59c12ff158"
      },
      "source": [
        "for x in \"Priya\":\r\n",
        "  print(x)"
      ],
      "execution_count": null,
      "outputs": [
        {
          "output_type": "stream",
          "text": [
            "P\n",
            "r\n",
            "i\n",
            "y\n",
            "a\n"
          ],
          "name": "stdout"
        }
      ]
    },
    {
      "cell_type": "markdown",
      "metadata": {
        "id": "xfTQ55oOmTLI"
      },
      "source": [
        "#break in for loop"
      ]
    },
    {
      "cell_type": "code",
      "metadata": {
        "colab": {
          "base_uri": "https://localhost:8080/"
        },
        "id": "rbVqKI45mVMF",
        "outputId": "7d2699f4-9525-4769-aa7c-2a55e353d8d8"
      },
      "source": [
        "fruits=[\"apple\", \"banana\", \"cherry\"]\r\n",
        "for x in fruits:\r\n",
        "  print(x)\r\n",
        "  if x==\"banana\":\r\n",
        "    break"
      ],
      "execution_count": null,
      "outputs": [
        {
          "output_type": "stream",
          "text": [
            "apple\n",
            "banana\n"
          ],
          "name": "stdout"
        }
      ]
    },
    {
      "cell_type": "markdown",
      "metadata": {
        "id": "D5khVlhTml0N"
      },
      "source": [
        "#Range()"
      ]
    },
    {
      "cell_type": "code",
      "metadata": {
        "colab": {
          "base_uri": "https://localhost:8080/"
        },
        "id": "5p8ZOrO2mn8o",
        "outputId": "e642b7bc-0f0a-4744-f392-9af9f3cc0acf"
      },
      "source": [
        "for x in range(5):\r\n",
        "  print(x)"
      ],
      "execution_count": null,
      "outputs": [
        {
          "output_type": "stream",
          "text": [
            "0\n",
            "1\n",
            "2\n",
            "3\n",
            "4\n"
          ],
          "name": "stdout"
        }
      ]
    },
    {
      "cell_type": "markdown",
      "metadata": {
        "id": "7cHHDPnfnMYc"
      },
      "source": [
        "#Range() with step size"
      ]
    },
    {
      "cell_type": "code",
      "metadata": {
        "colab": {
          "base_uri": "https://localhost:8080/"
        },
        "id": "t7TXyZJenNEo",
        "outputId": "b0f1c289-fd28-43a1-e9fb-8aa9d2398832"
      },
      "source": [
        "for x in range(3, 30, 6):\r\n",
        "  print(x)"
      ],
      "execution_count": null,
      "outputs": [
        {
          "output_type": "stream",
          "text": [
            "3\n",
            "9\n",
            "15\n",
            "21\n",
            "27\n"
          ],
          "name": "stdout"
        }
      ]
    },
    {
      "cell_type": "markdown",
      "metadata": {
        "id": "aPS1YtZlndP9"
      },
      "source": [
        "#Nested Loops"
      ]
    },
    {
      "cell_type": "code",
      "metadata": {
        "colab": {
          "base_uri": "https://localhost:8080/"
        },
        "id": "P2q-xdWRnfRO",
        "outputId": "eb522b08-0474-4c13-d712-2ed2e6ad013e"
      },
      "source": [
        "adj= [\"red\", \"big\", \"tasty\"]\r\n",
        "fruits=[\"apple\", \"banana\", \"cherry\"]\r\n",
        "for x in adj:\r\n",
        "  for y in fruits:\r\n",
        "    print(x,y)"
      ],
      "execution_count": null,
      "outputs": [
        {
          "output_type": "stream",
          "text": [
            "red apple\n",
            "red banana\n",
            "red cherry\n",
            "big apple\n",
            "big banana\n",
            "big cherry\n",
            "tasty apple\n",
            "tasty banana\n",
            "tasty cherry\n"
          ],
          "name": "stdout"
        }
      ]
    },
    {
      "cell_type": "markdown",
      "metadata": {
        "id": "w___5wWNoQpS"
      },
      "source": [
        "#Assignment"
      ]
    },
    {
      "cell_type": "code",
      "metadata": {
        "colab": {
          "base_uri": "https://localhost:8080/"
        },
        "id": "4tDubeAbpeJF",
        "outputId": "6f4ea063-48cc-40d4-def7-be5c12f0b61b"
      },
      "source": [
        "even=[]\r\n",
        "odd=[]\r\n",
        "n=8\r\n",
        "for i in range (1, n+1): \r\n",
        "  if i%2==1:\r\n",
        "    odd.append(i)\r\n",
        "  else:  \r\n",
        "    even.append(i)\r\n",
        "print(odd)\r\n",
        "print(even)    \r\n",
        "\r\n",
        "\r\n",
        "\r\n"
      ],
      "execution_count": null,
      "outputs": [
        {
          "output_type": "stream",
          "text": [
            "[1, 3, 5, 7]\n",
            "[2, 4, 6, 8]\n"
          ],
          "name": "stdout"
        }
      ]
    },
    {
      "cell_type": "code",
      "metadata": {
        "colab": {
          "base_uri": "https://localhost:8080/"
        },
        "id": "46nr9uXEuyH3",
        "outputId": "6f3275f1-ef39-4435-8d73-a39faf05c7c1"
      },
      "source": [
        "even=[]\r\n",
        "odd=[]\r\n",
        "n=8\r\n",
        "for i in range (1, n+1, 2): \r\n",
        "  odd.append(i)\r\n",
        "  even.append(i+1)\r\n",
        "print(odd)\r\n",
        "print(even) "
      ],
      "execution_count": null,
      "outputs": [
        {
          "output_type": "stream",
          "text": [
            "[1, 3, 5, 7]\n",
            "[2, 4, 6, 8]\n"
          ],
          "name": "stdout"
        }
      ]
    },
    {
      "cell_type": "markdown",
      "metadata": {
        "id": "HwlzNEXyBql3"
      },
      "source": [
        "#Creating a list"
      ]
    },
    {
      "cell_type": "code",
      "metadata": {
        "colab": {
          "base_uri": "https://localhost:8080/"
        },
        "id": "PJOWy46aAvc9",
        "outputId": "073dddb2-2fc2-429a-d75f-220e387cb27b"
      },
      "source": [
        "print([i for i in range(1,21)])"
      ],
      "execution_count": 160,
      "outputs": [
        {
          "output_type": "stream",
          "text": [
            "[1, 2, 3, 4, 5, 6, 7, 8, 9, 10, 11, 12, 13, 14, 15, 16, 17, 18, 19, 20]\n"
          ],
          "name": "stdout"
        }
      ]
    },
    {
      "cell_type": "code",
      "metadata": {
        "colab": {
          "base_uri": "https://localhost:8080/"
        },
        "id": "JMDJGG9YC3tn",
        "outputId": "f5988d27-17ad-4787-a85e-a080c3eda779"
      },
      "source": [
        "x=[i*i for i in range(1,11)]\r\n",
        "print(x)"
      ],
      "execution_count": 162,
      "outputs": [
        {
          "output_type": "stream",
          "text": [
            "[1, 4, 9, 16, 25, 36, 49, 64, 81, 100]\n"
          ],
          "name": "stdout"
        }
      ]
    },
    {
      "cell_type": "code",
      "metadata": {
        "colab": {
          "base_uri": "https://localhost:8080/"
        },
        "id": "DF1tCbPWDP_r",
        "outputId": "6f0e39a4-68e6-44a9-f1e1-547abdcf0065"
      },
      "source": [
        "even=[]\r\n",
        "n=10\r\n",
        "for i in range (1, n+1, 2): \r\n",
        "  even.append(i+1)\r\n",
        "print(even) \r\n"
      ],
      "execution_count": 165,
      "outputs": [
        {
          "output_type": "stream",
          "text": [
            "[2, 4, 6, 8, 10]\n"
          ],
          "name": "stdout"
        }
      ]
    },
    {
      "cell_type": "code",
      "metadata": {
        "colab": {
          "base_uri": "https://localhost:8080/"
        },
        "id": "RUtBas6rEGNg",
        "outputId": "a4f10d02-eb9b-41e3-a94a-54661c1b7a92"
      },
      "source": [
        "evenList=[i for i in range(1,21) if i%2==0]\r\n",
        "print(evenList)"
      ],
      "execution_count": 167,
      "outputs": [
        {
          "output_type": "stream",
          "text": [
            "[2, 4, 6, 8, 10, 12, 14, 16, 18, 20]\n"
          ],
          "name": "stdout"
        }
      ]
    },
    {
      "cell_type": "code",
      "metadata": {
        "colab": {
          "base_uri": "https://localhost:8080/"
        },
        "id": "BUb2LxAyEu5u",
        "outputId": "438949de-a84f-4022-b969-500663f25e69"
      },
      "source": [
        "x=[i*i for i in range(1,21) if i%2==1]\r\n",
        "print(x)"
      ],
      "execution_count": 172,
      "outputs": [
        {
          "output_type": "stream",
          "text": [
            "[1, 9, 25, 49, 81, 121, 169, 225, 289, 361]\n"
          ],
          "name": "stdout"
        }
      ]
    },
    {
      "cell_type": "code",
      "metadata": {
        "colab": {
          "base_uri": "https://localhost:8080/"
        },
        "id": "qdAmw2xYFDTA",
        "outputId": "ecacce2d-16c2-4d84-c29c-e9e07aa700ad"
      },
      "source": [
        "if 0:\r\n",
        "  print(even)\r\n",
        "else:\r\n",
        "  print(odd)"
      ],
      "execution_count": 170,
      "outputs": [
        {
          "output_type": "stream",
          "text": [
            "[1, 3, 5, 7]\n"
          ],
          "name": "stdout"
        }
      ]
    },
    {
      "cell_type": "code",
      "metadata": {
        "colab": {
          "base_uri": "https://localhost:8080/"
        },
        "id": "-4789RJ4FfrT",
        "outputId": "6470b3eb-3577-49a3-9e56-9c82d11e47df"
      },
      "source": [
        "if -1:\r\n",
        "  print(even)\r\n",
        "else:\r\n",
        "  print(odd)"
      ],
      "execution_count": 171,
      "outputs": [
        {
          "output_type": "stream",
          "text": [
            "[2, 4, 6, 8, 10]\n"
          ],
          "name": "stdout"
        }
      ]
    },
    {
      "cell_type": "code",
      "metadata": {
        "colab": {
          "base_uri": "https://localhost:8080/"
        },
        "id": "4BTf2EA7GPFe",
        "outputId": "a98c3cc8-8a39-4c0e-d942-7ec5b5767ace"
      },
      "source": [
        "myList1=[1, 1, 2, 3, 4, 5]\r\n",
        "print(all(myList1))\r\n",
        "\r\n",
        "myList2=[1, 9, 2, 7, 4, 0]\r\n",
        "print(all(myList2))"
      ],
      "execution_count": 173,
      "outputs": [
        {
          "output_type": "stream",
          "text": [
            "True\n",
            "False\n"
          ],
          "name": "stdout"
        }
      ]
    },
    {
      "cell_type": "markdown",
      "metadata": {
        "id": "Izq6JaCDK4Iz"
      },
      "source": [
        "#Prime Numbers"
      ]
    },
    {
      "cell_type": "code",
      "metadata": {
        "colab": {
          "base_uri": "https://localhost:8080/"
        },
        "id": "u5Ak1QFVFtu7",
        "outputId": "bc31de1b-beb4-4caa-8917-27014c5844ce"
      },
      "source": [
        "lst=[]\r\n",
        "for i in range(2,21):\r\n",
        "  isPrime=True\r\n",
        "  for j in range(2,i):\r\n",
        "    if i%j==0:\r\n",
        "      isPrime=False\r\n",
        "  if isPrime:    \r\n",
        "      lst.append(i)\r\n",
        "print(lst)        \r\n"
      ],
      "execution_count": 178,
      "outputs": [
        {
          "output_type": "stream",
          "text": [
            "[2, 3, 5, 7, 11, 13, 17, 19]\n"
          ],
          "name": "stdout"
        }
      ]
    },
    {
      "cell_type": "code",
      "metadata": {
        "colab": {
          "base_uri": "https://localhost:8080/"
        },
        "id": "9mOllXPyK_sY",
        "outputId": "de4ec6ac-2d79-4f48-819c-3eb9f100bf18"
      },
      "source": [
        "primeList=[i for i in range(2,21) if all(i%j!=0 for j in range(2,i))]\r\n",
        "print(primeList)"
      ],
      "execution_count": 179,
      "outputs": [
        {
          "output_type": "stream",
          "text": [
            "[2, 3, 5, 7, 11, 13, 17, 19]\n"
          ],
          "name": "stdout"
        }
      ]
    },
    {
      "cell_type": "code",
      "metadata": {
        "colab": {
          "base_uri": "https://localhost:8080/"
        },
        "id": "720uVbGmMYK9",
        "outputId": "d93283d3-9e6f-413f-a4d7-01488acc4173"
      },
      "source": [
        "print([6%j!=0 for j in range(2,6)])\r\n",
        "print(all([6%j!=0 for j in range(2,6)]))\r\n",
        "print(all([7%i!=0 for i in range(2,7)]))"
      ],
      "execution_count": 182,
      "outputs": [
        {
          "output_type": "stream",
          "text": [
            "[False, False, True, True]\n",
            "False\n",
            "True\n"
          ],
          "name": "stdout"
        }
      ]
    },
    {
      "cell_type": "code",
      "metadata": {
        "colab": {
          "base_uri": "https://localhost:8080/"
        },
        "id": "uUjtXsXZOUX7",
        "outputId": "fd37d79a-1166-45c7-9ee9-005dbdbe63d0"
      },
      "source": [
        "x=[i*i for i in range(1,25) if i*i<=25]\r\n",
        "print(x)"
      ],
      "execution_count": 196,
      "outputs": [
        {
          "output_type": "stream",
          "text": [
            "[1, 4, 9, 16, 25]\n"
          ],
          "name": "stdout"
        }
      ]
    },
    {
      "cell_type": "code",
      "metadata": {
        "colab": {
          "base_uri": "https://localhost:8080/"
        },
        "id": "qVvGm3dRTWe1",
        "outputId": "dc46cf9d-7561-4fcf-eaf3-cce91392f741"
      },
      "source": [
        "def my_fun(a,b):\r\n",
        "  print(a,b)\r\n",
        "my_fun(\"jack\", \"jill\")\r\n",
        "\r\n",
        "def my_fun(a,b=\"jill\"):\r\n",
        "  print(a,b)\r\n",
        "my_fun(\"jack\")\r\n",
        "\r\n",
        "def my_fun(a,b=2):\r\n",
        "  print(a,b)\r\n",
        "my_fun(\"jack\", 3)"
      ],
      "execution_count": 201,
      "outputs": [
        {
          "output_type": "stream",
          "text": [
            "jack jill\n",
            "jack jill\n",
            "jack 3\n"
          ],
          "name": "stdout"
        }
      ]
    }
  ]
}