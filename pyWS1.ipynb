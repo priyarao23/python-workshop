{
  "nbformat": 4,
  "nbformat_minor": 0,
  "metadata": {
    "colab": {
      "name": "pyWS1.ipynb",
      "provenance": [],
      "collapsed_sections": [],
      "authorship_tag": "ABX9TyOZtyE+vYG9Wp02yoZDm0cK",
      "include_colab_link": true
    },
    "kernelspec": {
      "name": "python3",
      "display_name": "Python 3"
    }
  },
  "cells": [
    {
      "cell_type": "markdown",
      "metadata": {
        "id": "view-in-github",
        "colab_type": "text"
      },
      "source": [
        "<a href=\"https://colab.research.google.com/github/priyarao23/python-workshop/blob/master/pyWS1.ipynb\" target=\"_parent\"><img src=\"https://colab.research.google.com/assets/colab-badge.svg\" alt=\"Open In Colab\"/></a>"
      ]
    },
    {
      "cell_type": "markdown",
      "metadata": {
        "id": "tzm02FPK3apb"
      },
      "source": [
        "#Python Programming!\r\n"
      ]
    },
    {
      "cell_type": "code",
      "metadata": {
        "colab": {
          "base_uri": "https://localhost:8080/"
        },
        "id": "-32bLgfr3f6Z",
        "outputId": "d2e48c45-f4c3-491f-80cd-4efdf392d52c"
      },
      "source": [
        "print(\"Hello World!\")"
      ],
      "execution_count": null,
      "outputs": [
        {
          "output_type": "stream",
          "text": [
            "Hello World!\n"
          ],
          "name": "stdout"
        }
      ]
    },
    {
      "cell_type": "code",
      "metadata": {
        "colab": {
          "base_uri": "https://localhost:8080/"
        },
        "id": "k_oxCk1L568K",
        "outputId": "9a95fdb4-b8bd-4479-f6f0-f96b33ce0467"
      },
      "source": [
        "x=5\r\n",
        "y=\"John\"\r\n",
        "print(x)\r\n",
        "print(y)\r\n"
      ],
      "execution_count": null,
      "outputs": [
        {
          "output_type": "stream",
          "text": [
            "5\n",
            "John\n"
          ],
          "name": "stdout"
        }
      ]
    },
    {
      "cell_type": "markdown",
      "metadata": {
        "id": "pMf-Y1b49RJs"
      },
      "source": [
        "#x->int y->string z->float"
      ]
    },
    {
      "cell_type": "code",
      "metadata": {
        "colab": {
          "base_uri": "https://localhost:8080/"
        },
        "id": "oGrJDmpu9TWi",
        "outputId": "bee071ed-62a2-430c-cfe0-ff71085b8206"
      },
      "source": [
        "x, y, z= 5, \"Python\", 1.999\r\n",
        "print(x)\r\n",
        "print(y)\r\n",
        "print(z)"
      ],
      "execution_count": null,
      "outputs": [
        {
          "output_type": "stream",
          "text": [
            "5\n",
            "Python\n",
            "1.999\n"
          ],
          "name": "stdout"
        }
      ]
    },
    {
      "cell_type": "code",
      "metadata": {
        "colab": {
          "base_uri": "https://localhost:8080/"
        },
        "id": "9G3Rqsao-Iw0",
        "outputId": "693e67f0-0af7-434a-9537-a3d46d76b386"
      },
      "source": [
        "x=y=z=\"Priya\"\r\n",
        "print(x)\r\n",
        "print(y)\r\n",
        "print(z)"
      ],
      "execution_count": null,
      "outputs": [
        {
          "output_type": "stream",
          "text": [
            "Priya\n",
            "Priya\n",
            "Priya\n"
          ],
          "name": "stdout"
        }
      ]
    },
    {
      "cell_type": "markdown",
      "metadata": {
        "id": "m4TgCDpEA2Dj"
      },
      "source": [
        "#Exercise 1"
      ]
    },
    {
      "cell_type": "code",
      "metadata": {
        "colab": {
          "base_uri": "https://localhost:8080/"
        },
        "id": "SjXvu0idA4OL",
        "outputId": "0abcaf2f-ec98-4eae-9e76-86fba85e1a36"
      },
      "source": [
        "carname=\"Volvo\"\r\n",
        "print(carname)"
      ],
      "execution_count": null,
      "outputs": [
        {
          "output_type": "stream",
          "text": [
            "Volvo\n"
          ],
          "name": "stdout"
        }
      ]
    },
    {
      "cell_type": "markdown",
      "metadata": {
        "id": "Z6POi0CZBSoc"
      },
      "source": [
        "#Exercise 2"
      ]
    },
    {
      "cell_type": "code",
      "metadata": {
        "colab": {
          "base_uri": "https://localhost:8080/"
        },
        "id": "8oxNm70YBUr6",
        "outputId": "784503dc-1edb-4694-a132-e57e0954b975"
      },
      "source": [
        "x=50\r\n",
        "print(type(x))"
      ],
      "execution_count": null,
      "outputs": [
        {
          "output_type": "stream",
          "text": [
            "<class 'int'>\n"
          ],
          "name": "stdout"
        }
      ]
    },
    {
      "cell_type": "markdown",
      "metadata": {
        "id": "fG2H2KMNCUBM"
      },
      "source": [
        "#Exercise 3\r\n"
      ]
    },
    {
      "cell_type": "code",
      "metadata": {
        "colab": {
          "base_uri": "https://localhost:8080/"
        },
        "id": "YPL1X2mqCWhU",
        "outputId": "3cda2f3c-052b-45c6-ac2b-cc3f281481ce"
      },
      "source": [
        "x, y = 5, 10\r\n",
        "print(x+y)\r\n"
      ],
      "execution_count": null,
      "outputs": [
        {
          "output_type": "stream",
          "text": [
            "15\n"
          ],
          "name": "stdout"
        }
      ]
    },
    {
      "cell_type": "markdown",
      "metadata": {
        "id": "2tY1wA5OClgr"
      },
      "source": [
        "#Exercise 4"
      ]
    },
    {
      "cell_type": "code",
      "metadata": {
        "colab": {
          "base_uri": "https://localhost:8080/"
        },
        "id": "WZZi9XbACndb",
        "outputId": "b59c63e2-33ac-4c6a-d8b4-1807ccf5db9e"
      },
      "source": [
        "x, y = 11, 17\r\n",
        "z=x+y\r\n",
        "print(z)"
      ],
      "execution_count": null,
      "outputs": [
        {
          "output_type": "stream",
          "text": [
            "28\n"
          ],
          "name": "stdout"
        }
      ]
    },
    {
      "cell_type": "markdown",
      "metadata": {
        "id": "JisQgVu5PSr8"
      },
      "source": [
        "#Data Type"
      ]
    },
    {
      "cell_type": "code",
      "metadata": {
        "colab": {
          "base_uri": "https://localhost:8080/"
        },
        "id": "HsKkcQ6vPYxe",
        "outputId": "36744a04-0e02-4dad-bc2e-5f2e0da9f700"
      },
      "source": [
        "x=5.34\r\n",
        "print(type(x))"
      ],
      "execution_count": 22,
      "outputs": [
        {
          "output_type": "stream",
          "text": [
            "<class 'float'>\n"
          ],
          "name": "stdout"
        }
      ]
    },
    {
      "cell_type": "code",
      "metadata": {
        "colab": {
          "base_uri": "https://localhost:8080/"
        },
        "id": "a4Gp1H-eP0--",
        "outputId": "4412767f-daec-46f4-8d1d-fa835a5d1f27"
      },
      "source": [
        "x=5\r\n",
        "print(type(x))"
      ],
      "execution_count": 23,
      "outputs": [
        {
          "output_type": "stream",
          "text": [
            "<class 'int'>\n"
          ],
          "name": "stdout"
        }
      ]
    },
    {
      "cell_type": "markdown",
      "metadata": {
        "id": "xeqgOQtOP4hm"
      },
      "source": [
        "#Examples"
      ]
    },
    {
      "cell_type": "code",
      "metadata": {
        "colab": {
          "base_uri": "https://localhost:8080/"
        },
        "id": "H4QJg13IP70k",
        "outputId": "917c06b7-4aef-46f8-cfce-c21e7b667254"
      },
      "source": [
        "x1= \"Hello World!\" #string\r\n",
        "x2=10 #integer\r\n",
        "x3=10.1 #float\r\n",
        "x4=[\"Apple\", \"Banana\", \"Cherry\"] #list\r\n",
        "x5=(\"Apple\", \"Banana\", \"Cherry\") #tuple\r\n",
        "x6=range(6) #range\r\n",
        "x7={\"name\":\"Johnwick\",\"age\":36} #dictionary\r\n",
        "x8={\"Apple\", \"Banana\", \"Cherry\"} #set\r\n",
        "x9=True #bool\r\n",
        "print(type(x1))\r\n",
        "print(type(x2))\r\n",
        "print(type(x3))\r\n",
        "print(type(x4))\r\n",
        "print(type(x5))\r\n",
        "print(type(x6))\r\n",
        "print(type(x7))\r\n",
        "print(type(x8))\r\n",
        "print(type(x9))\r\n"
      ],
      "execution_count": 35,
      "outputs": [
        {
          "output_type": "stream",
          "text": [
            "<class 'str'>\n",
            "<class 'int'>\n",
            "<class 'float'>\n",
            "<class 'list'>\n",
            "<class 'tuple'>\n",
            "<class 'range'>\n",
            "<class 'dict'>\n",
            "<class 'set'>\n",
            "<class 'bool'>\n"
          ],
          "name": "stdout"
        }
      ]
    },
    {
      "cell_type": "markdown",
      "metadata": {
        "id": "Z-RbzTFjS_mm"
      },
      "source": [
        "#Python Numbers"
      ]
    },
    {
      "cell_type": "code",
      "metadata": {
        "colab": {
          "base_uri": "https://localhost:8080/"
        },
        "id": "DcZ6ETr8TCuY",
        "outputId": "ed5575f0-6a2d-4c35-a173-783cb22be705"
      },
      "source": [
        "x=755658794344656754\r\n",
        "y=23.1999\r\n",
        "z=-23+7j\r\n",
        "print(type(x))\r\n",
        "print(type(y))\r\n",
        "print(type(z))\r\n"
      ],
      "execution_count": 34,
      "outputs": [
        {
          "output_type": "stream",
          "text": [
            "<class 'int'>\n",
            "<class 'float'>\n",
            "<class 'complex'>\n"
          ],
          "name": "stdout"
        }
      ]
    },
    {
      "cell_type": "code",
      "metadata": {
        "colab": {
          "base_uri": "https://localhost:8080/"
        },
        "id": "bnvAnhlvVosP",
        "outputId": "3c9cb1be-5433-4e18-ab00-a3c727397e2d"
      },
      "source": [
        "x=range(0,6,2)\r\n",
        "print(list(x))"
      ],
      "execution_count": 43,
      "outputs": [
        {
          "output_type": "stream",
          "text": [
            "[0, 2, 4]\n"
          ],
          "name": "stdout"
        }
      ]
    },
    {
      "cell_type": "code",
      "metadata": {
        "colab": {
          "base_uri": "https://localhost:8080/"
        },
        "id": "URho-WQxXAZ_",
        "outputId": "26cccaba-28a9-48fb-fa06-70b6a5aee0b7"
      },
      "source": [
        "x={1, 2, 4, 2, 6 ,5, 3 ,7, 9, 2, 8, 1, 6} #set\r\n",
        "print(x)"
      ],
      "execution_count": 45,
      "outputs": [
        {
          "output_type": "stream",
          "text": [
            "{1, 2, 3, 4, 5, 6, 7, 8, 9}\n"
          ],
          "name": "stdout"
        }
      ]
    },
    {
      "cell_type": "markdown",
      "metadata": {
        "id": "GiYCYX3IYG5G"
      },
      "source": [
        "#Type Conversion"
      ]
    },
    {
      "cell_type": "code",
      "metadata": {
        "colab": {
          "base_uri": "https://localhost:8080/"
        },
        "id": "2FtwuINNYJ5G",
        "outputId": "2931e266-0a07-45d7-9196-a297d3a1f12b"
      },
      "source": [
        "x=1\r\n",
        "y=2.8\r\n",
        "z=1j\r\n",
        "a=float(x)\r\n",
        "print(a)\r\n",
        "b=int(y)\r\n",
        "print(b)\r\n",
        "c=complex(x)\r\n",
        "print(c)"
      ],
      "execution_count": 49,
      "outputs": [
        {
          "output_type": "stream",
          "text": [
            "1.0\n",
            "2\n",
            "(1+0j)\n"
          ],
          "name": "stdout"
        }
      ]
    },
    {
      "cell_type": "markdown",
      "metadata": {
        "id": "54Qk565JZTvG"
      },
      "source": [
        "#Python Casting"
      ]
    },
    {
      "cell_type": "code",
      "metadata": {
        "id": "Mm-WOnKqZZJ2"
      },
      "source": [
        "x=int(1) #x will be 1\r\n",
        "y=int(2.8) #y will be 2\r\n",
        "z=int(\"3\") #z will be 3\r\n",
        "\r\n",
        "x=float(1) #x will be 1.0\r\n",
        "y=float(2.8) #y will be 2.8\r\n",
        "z=float(\"3\") #z will be 3.0\r\n",
        "w=float(\"4.2\") #w will be 4.2\r\n",
        "\r\n",
        "x=str(\"s1\") #x will be 's1'\r\n",
        "y=str(2) #y will be '2'\r\n",
        "z=str(3.0) #z will be '3'\r\n"
      ],
      "execution_count": 50,
      "outputs": []
    },
    {
      "cell_type": "markdown",
      "metadata": {
        "id": "kbkOZy-qamOI"
      },
      "source": [
        "#Assignment"
      ]
    },
    {
      "cell_type": "code",
      "metadata": {
        "colab": {
          "base_uri": "https://localhost:8080/"
        },
        "id": "mLxEZf0Fao4l",
        "outputId": "ca749c30-2eb5-4d32-eca4-d553db11fe0a"
      },
      "source": [
        "x, y = 2, 3\r\n",
        "print( str(x)+str(y))"
      ],
      "execution_count": 58,
      "outputs": [
        {
          "output_type": "stream",
          "text": [
            "23\n"
          ],
          "name": "stdout"
        }
      ]
    },
    {
      "cell_type": "markdown",
      "metadata": {
        "id": "poJh_a5pds-o"
      },
      "source": [
        "#Assign String to Variable"
      ]
    },
    {
      "cell_type": "code",
      "metadata": {
        "colab": {
          "base_uri": "https://localhost:8080/"
        },
        "id": "KjHD2r7FdxA_",
        "outputId": "0d18cb43-75ab-4508-fbcc-3f6e258ad57e"
      },
      "source": [
        "name= \"Priya\"\r\n",
        "print(name)\r\n",
        "print(type(name))"
      ],
      "execution_count": 60,
      "outputs": [
        {
          "output_type": "stream",
          "text": [
            "Priya\n",
            "<class 'str'>\n"
          ],
          "name": "stdout"
        }
      ]
    },
    {
      "cell_type": "code",
      "metadata": {
        "colab": {
          "base_uri": "https://localhost:8080/"
        },
        "id": "QjVaVEVaeRDP",
        "outputId": "9c975d95-0e12-449e-9c48-81ea33a0c05a"
      },
      "source": [
        "name=\"Priya\"\r\n",
        "print(name[1]) \r\n",
        "print(len(name)) #string length"
      ],
      "execution_count": 63,
      "outputs": [
        {
          "output_type": "stream",
          "text": [
            "r\n",
            "5\n"
          ],
          "name": "stdout"
        }
      ]
    },
    {
      "cell_type": "markdown",
      "metadata": {
        "id": "2X6uM4DnfeZ3"
      },
      "source": [
        "#Check String"
      ]
    },
    {
      "cell_type": "code",
      "metadata": {
        "colab": {
          "base_uri": "https://localhost:8080/"
        },
        "id": "RQf0gjOzfjSG",
        "outputId": "6246bf3a-17ea-4c50-ad3f-6d146afcded1"
      },
      "source": [
        "txt=\"Things in life are free\"\r\n",
        "print(\"life\" in txt)\r\n",
        "print(\"I\" in txt)\r\n",
        "print(txt[0:6]) #Slicing\r\n",
        "print(txt[:6]) #start\r\n",
        "print(txt[7:]) #end"
      ],
      "execution_count": 70,
      "outputs": [
        {
          "output_type": "stream",
          "text": [
            "True\n",
            "False\n",
            "Things\n",
            "Things\n",
            "in life are free\n"
          ],
          "name": "stdout"
        }
      ]
    },
    {
      "cell_type": "markdown",
      "metadata": {
        "id": "umvV48vyg7oa"
      },
      "source": [
        "#Negative Indexing"
      ]
    },
    {
      "cell_type": "code",
      "metadata": {
        "colab": {
          "base_uri": "https://localhost:8080/"
        },
        "id": "7E2QNTBfg_MP",
        "outputId": "08c717ec-d511-4d9d-a085-69d07b43a41d"
      },
      "source": [
        "txt=\"Things in life are free!\"\r\n",
        "print(txt[-6:-1])"
      ],
      "execution_count": 71,
      "outputs": [
        {
          "output_type": "stream",
          "text": [
            " free\n"
          ],
          "name": "stdout"
        }
      ]
    },
    {
      "cell_type": "markdown",
      "metadata": {
        "id": "sgHJfnW_hp43"
      },
      "source": [
        "#Modifying"
      ]
    },
    {
      "cell_type": "code",
      "metadata": {
        "colab": {
          "base_uri": "https://localhost:8080/"
        },
        "id": "F5-sW2mxhrwn",
        "outputId": "7fd38860-dd54-4759-b588-5e8b5b86d143"
      },
      "source": [
        "txt=\"Things in life are free!\"\r\n",
        "print(txt.upper())\r\n",
        "print(txt.lower())"
      ],
      "execution_count": 73,
      "outputs": [
        {
          "output_type": "stream",
          "text": [
            "THINGS IN LIFE ARE FREE!\n",
            "things in life are free!\n"
          ],
          "name": "stdout"
        }
      ]
    },
    {
      "cell_type": "markdown",
      "metadata": {
        "id": "_NagHjQ9iULw"
      },
      "source": [
        "#String Concatenation"
      ]
    },
    {
      "cell_type": "code",
      "metadata": {
        "colab": {
          "base_uri": "https://localhost:8080/"
        },
        "id": "jNGeXG5diXJG",
        "outputId": "f7bbc458-a02e-445f-9cd3-7eb409d53e99"
      },
      "source": [
        "a=\"Hello \"\r\n",
        "b=\"World!\"\r\n",
        "print(a+b)"
      ],
      "execution_count": 75,
      "outputs": [
        {
          "output_type": "stream",
          "text": [
            "Hello World!\n"
          ],
          "name": "stdout"
        }
      ]
    },
    {
      "cell_type": "markdown",
      "metadata": {
        "id": "-_S4J_pci6av"
      },
      "source": [
        "Python-Format-String"
      ]
    },
    {
      "cell_type": "code",
      "metadata": {
        "colab": {
          "base_uri": "https://localhost:8080/"
        },
        "id": "FzMitdPSi-8k",
        "outputId": "6f624813-8042-448b-e72d-5b69327cacb1"
      },
      "source": [
        "age=36\r\n",
        "txt=\"My name is John, and I am {}\"\r\n",
        "print(txt.format(age))"
      ],
      "execution_count": 82,
      "outputs": [
        {
          "output_type": "stream",
          "text": [
            "My name is John, and I am 36\n"
          ],
          "name": "stdout"
        }
      ]
    },
    {
      "cell_type": "markdown",
      "metadata": {
        "id": "FOwwEfhKkAT7"
      },
      "source": [
        "#Escape Characters"
      ]
    },
    {
      "cell_type": "code",
      "metadata": {
        "colab": {
          "base_uri": "https://localhost:8080/"
        },
        "id": "S-I1rw6ikDYY",
        "outputId": "e207ee25-fa67-4872-8c64-502214a16baa"
      },
      "source": [
        "txt=\"Hello\\nWorld!\"\r\n",
        "print(txt)"
      ],
      "execution_count": 84,
      "outputs": [
        {
          "output_type": "stream",
          "text": [
            "Hello\n",
            "World!\n"
          ],
          "name": "stdout"
        }
      ]
    },
    {
      "cell_type": "code",
      "metadata": {
        "colab": {
          "base_uri": "https://localhost:8080/"
        },
        "id": "hre_3IVbkfng",
        "outputId": "4815e7ae-989d-4fd9-ce41-78f0b8e69bbd"
      },
      "source": [
        "txt=\"Hello\\tWorld!\"\r\n",
        "print(txt)"
      ],
      "execution_count": 85,
      "outputs": [
        {
          "output_type": "stream",
          "text": [
            "Hello\tWorld!\n"
          ],
          "name": "stdout"
        }
      ]
    },
    {
      "cell_type": "code",
      "metadata": {
        "colab": {
          "base_uri": "https://localhost:8080/"
        },
        "id": "59Zv3W-Fkw9v",
        "outputId": "ed76d7b0-0241-4cd5-9bc4-bc6f4409ea42"
      },
      "source": [
        "txt=\"priya\"\r\n",
        "print(txt.capitalize())"
      ],
      "execution_count": 86,
      "outputs": [
        {
          "output_type": "stream",
          "text": [
            "Priya\n"
          ],
          "name": "stdout"
        }
      ]
    },
    {
      "cell_type": "code",
      "metadata": {
        "colab": {
          "base_uri": "https://localhost:8080/"
        },
        "id": "GHlIjtRXl2mh",
        "outputId": "99a701fc-b642-47a9-d966-8e9f2403e518"
      },
      "source": [
        "txt=\"priya\"\r\n",
        "print(txt.isupper())"
      ],
      "execution_count": 88,
      "outputs": [
        {
          "output_type": "stream",
          "text": [
            "False\n"
          ],
          "name": "stdout"
        }
      ]
    },
    {
      "cell_type": "code",
      "metadata": {
        "colab": {
          "base_uri": "https://localhost:8080/"
        },
        "id": "YzM_qFQ1l7IX",
        "outputId": "80dbd7ae-21ba-41bd-b8ce-6c0ef5dc748b"
      },
      "source": [
        "txt=\"priya\"\r\n",
        "print(txt.isalpha())"
      ],
      "execution_count": 89,
      "outputs": [
        {
          "output_type": "stream",
          "text": [
            "True\n"
          ],
          "name": "stdout"
        }
      ]
    },
    {
      "cell_type": "markdown",
      "metadata": {
        "id": "A6F-ZYtd1m_b"
      },
      "source": [
        "#Exercise"
      ]
    },
    {
      "cell_type": "code",
      "metadata": {
        "colab": {
          "base_uri": "https://localhost:8080/"
        },
        "id": "Beb_PxDv1qGh",
        "outputId": "fb3aec00-47e4-4d3d-b2b0-22b769f54941"
      },
      "source": [
        "name=\"alvas\"\r\n",
        "a=\" college\"\r\n",
        "txt=\"alvas{}\"\r\n",
        "print(name)\r\n",
        "print(len(name))\r\n",
        "print(name[0:4])\r\n",
        "print(name.upper())\r\n",
        "print(name+a)\r\n",
        "print(txt.format(a))\r\n",
        "print(name.isdigit())\r\n",
        "\r\n",
        "\r\n"
      ],
      "execution_count": 109,
      "outputs": [
        {
          "output_type": "stream",
          "text": [
            "alvas\n",
            "5\n",
            "alva\n",
            "ALVAS\n",
            "alvas college\n",
            "alvas college\n",
            "False\n"
          ],
          "name": "stdout"
        }
      ]
    },
    {
      "cell_type": "markdown",
      "metadata": {
        "id": "uSUfQP3A6OOs"
      },
      "source": [
        "#Boolean Values"
      ]
    },
    {
      "cell_type": "code",
      "metadata": {
        "colab": {
          "base_uri": "https://localhost:8080/"
        },
        "id": "SyGrgcNJ6Ua_",
        "outputId": "a38bdd12-76c6-4a0f-d70a-77f3c2e8987e"
      },
      "source": [
        "print(10>9)\r\n",
        "print(10==9)"
      ],
      "execution_count": 111,
      "outputs": [
        {
          "output_type": "stream",
          "text": [
            "True\n",
            "False\n"
          ],
          "name": "stdout"
        }
      ]
    },
    {
      "cell_type": "markdown",
      "metadata": {
        "id": "enJXpEWk62fr"
      },
      "source": [
        "#Arithmetic Operators"
      ]
    },
    {
      "cell_type": "code",
      "metadata": {
        "colab": {
          "base_uri": "https://localhost:8080/"
        },
        "id": "U_ObKbr666fC",
        "outputId": "b88499e4-9479-4630-a96a-fafe1bd76745"
      },
      "source": [
        "print(10+5)\r\n",
        "print(10-5)\r\n",
        "print(10*5)\r\n",
        "print(10/5)\r\n",
        "print(10%5)"
      ],
      "execution_count": 112,
      "outputs": [
        {
          "output_type": "stream",
          "text": [
            "15\n",
            "5\n",
            "50\n",
            "2.0\n",
            "0\n"
          ],
          "name": "stdout"
        }
      ]
    },
    {
      "cell_type": "markdown",
      "metadata": {
        "id": "RWqTWITI8S4N"
      },
      "source": [
        "#Python Comparison Operators"
      ]
    },
    {
      "cell_type": "code",
      "metadata": {
        "colab": {
          "base_uri": "https://localhost:8080/"
        },
        "id": "9R-8yDWt8oKS",
        "outputId": "37ce3999-0096-46d8-b382-5c14ee20e15a"
      },
      "source": [
        "x, y = 2, 5\r\n",
        "print(x==y)\r\n",
        "print(x!=y)\r\n",
        "print(x>y)\r\n",
        "print(x<y)"
      ],
      "execution_count": 113,
      "outputs": [
        {
          "output_type": "stream",
          "text": [
            "False\n",
            "True\n",
            "False\n",
            "True\n"
          ],
          "name": "stdout"
        }
      ]
    },
    {
      "cell_type": "code",
      "metadata": {
        "colab": {
          "base_uri": "https://localhost:8080/"
        },
        "id": "8swHSI9q94Eq",
        "outputId": "aff7eef5-f489-4dbd-b2d8-13abc75710d9"
      },
      "source": [
        "print(3<0 and 3<8) #False and True is False\r\n",
        "print(3<0 and 3>8) #False and True is False\r\n",
        "print(3<0 or 3<8) #False and True is true"
      ],
      "execution_count": 114,
      "outputs": [
        {
          "output_type": "stream",
          "text": [
            "False\n",
            "False\n",
            "True\n"
          ],
          "name": "stdout"
        }
      ]
    },
    {
      "cell_type": "markdown",
      "metadata": {
        "id": "1mg_nzJd-SsM"
      },
      "source": [
        "#Assignment"
      ]
    },
    {
      "cell_type": "code",
      "metadata": {
        "colab": {
          "base_uri": "https://localhost:8080/"
        },
        "id": "l11n8XJ2-VoD",
        "outputId": "f73ddabd-6391-44ae-a6df-c81db7bd42f7"
      },
      "source": [
        "x=int(input(\"enter a number:\\n\"))\r\n",
        "y=int(input(\"enter a number:\\n\"))\r\n",
        "print(x+y)\r\n",
        "print(x-y)\r\n",
        "print(x*y)\r\n",
        "print(x/y)\r\n",
        "print(x%y)\r\n",
        "print(x==y)\r\n",
        "print(x!=y)\r\n",
        "print(x>y)\r\n",
        "print(x<y)"
      ],
      "execution_count": 123,
      "outputs": [
        {
          "output_type": "stream",
          "text": [
            "enter a number:\n",
            "5\n",
            "enter a number:\n",
            "6\n",
            "11\n",
            "-1\n",
            "30\n",
            "0.8333333333333334\n",
            "5\n",
            "False\n",
            "True\n",
            "False\n",
            "True\n"
          ],
          "name": "stdout"
        }
      ]
    }
  ]
}